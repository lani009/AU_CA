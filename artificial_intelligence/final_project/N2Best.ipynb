{
 "cells": [
  {
   "cell_type": "code",
   "execution_count": 1,
   "metadata": {},
   "outputs": [],
   "source": [
    "import tensorflow as tf\n",
    "import tensorflow.keras as keras\n",
    "import numpy as np\n",
    "import matplotlib.pyplot as plt"
   ]
  },
  {
   "cell_type": "code",
   "execution_count": 2,
   "metadata": {},
   "outputs": [],
   "source": [
    "(x_train, y_train), (x_test, y_test) = keras.datasets.cifar10.load_data()\n",
    "x_train = x_train\n",
    "x_test = x_test\n",
    "y_train = keras.utils.to_categorical(y_train)\n",
    "y_test = keras.utils.to_categorical(y_test)"
   ]
  },
  {
   "cell_type": "code",
   "execution_count": 3,
   "metadata": {},
   "outputs": [
    {
     "name": "stdout",
     "output_type": "stream",
     "text": [
      "shape of x_train is [30000    32    32     3]\n",
      "shape of y_train is [30000    10]\n",
      "shape of x_test is [10000    32    32     3]\n",
      "shape of y_test is [10000    10]\n"
     ]
    }
   ],
   "source": [
    "import random\n",
    "\n",
    "rand_selected = random.sample([x for x in range(0, len(x_train))], 30000)\n",
    "x_train = x_train[rand_selected]\n",
    "y_train = y_train[rand_selected]\n",
    "\n",
    "print(f\"shape of x_train is {tf.shape(x_train)}\")\n",
    "print(f\"shape of y_train is {tf.shape(y_train)}\")\n",
    "print(f\"shape of x_test is {tf.shape(x_test)}\")\n",
    "print(f\"shape of y_test is {tf.shape(y_test)}\")"
   ]
  },
  {
   "cell_type": "code",
   "execution_count": 4,
   "metadata": {},
   "outputs": [
    {
     "data": {
      "image/png": "[encoded data removed]",
      "text/plain": [
       "<Figure size 432x288 with 4 Axes>"
      ]
     },
     "metadata": {
      "needs_background": "light"
     },
     "output_type": "display_data"
    }
   ],
   "source": [
    "fig = plt.figure()\n",
    "\n",
    "for i in range(1, 5):\n",
    "    ax = fig.add_subplot(5, 1, i)\n",
    "    ax.imshow(x_train[i])"
   ]
  },
  {
   "cell_type": "code",
   "execution_count": 5,
   "metadata": {},
   "outputs": [],
   "source": [
    "mean = np.mean(x_train, axis=(0, 1, 2, 3))\n",
    "std = np.std(x_train, axis=(0, 1, 2, 3))\n",
    "x_train = (x_train-mean)/(std+1e-7)\n",
    "x_test = (x_test-mean)/(std+1e-7)"
   ]
  },
  {
   "cell_type": "code",
   "execution_count": 6,
   "metadata": {},
   "outputs": [],
   "source": [
    "datagen = keras.preprocessing.image.ImageDataGenerator(\n",
    "    featurewise_center=False,\n",
    "    samplewise_center=False,\n",
    "    featurewise_std_normalization=False,\n",
    "    samplewise_std_normalization=False,\n",
    "    zca_whitening=False,\n",
    "    rotation_range=15,\n",
    "    width_shift_range=0.1,\n",
    "    horizontal_flip=True,\n",
    "    vertical_flip=False\n",
    ")\n",
    "datagen.fit(x_train)"
   ]
  },
  {
   "cell_type": "code",
   "execution_count": 7,
   "metadata": {},
   "outputs": [
    {
     "name": "stdout",
     "output_type": "stream",
     "text": [
      "Model: \"sequential\"\n",
      "_________________________________________________________________\n",
      "Layer (type)                 Output Shape              Param #   \n",
      "=================================================================\n",
      "conv2d (Conv2D)              (None, 32, 32, 64)        1792      \n",
      "_________________________________________________________________\n",
      "batch_normalization (BatchNo (None, 32, 32, 64)        256       \n",
      "_________________________________________________________________\n",
      "activation (Activation)      (None, 32, 32, 64)        0         \n",
      "_________________________________________________________________\n",
      "dropout (Dropout)            (None, 32, 32, 64)        0         \n",
      "_________________________________________________________________\n",
      "conv2d_1 (Conv2D)            (None, 32, 32, 64)        36928     \n",
      "_________________________________________________________________\n",
      "batch_normalization_1 (Batch (None, 32, 32, 64)        256       \n",
      "_________________________________________________________________\n",
      "activation_1 (Activation)    (None, 32, 32, 64)        0         \n",
      "_________________________________________________________________\n",
      "max_pooling2d (MaxPooling2D) (None, 16, 16, 64)        0         \n",
      "_________________________________________________________________\n",
      "conv2d_2 (Conv2D)            (None, 16, 16, 128)       73856     \n",
      "_________________________________________________________________\n",
      "batch_normalization_2 (Batch (None, 16, 16, 128)       512       \n",
      "_________________________________________________________________\n",
      "activation_2 (Activation)    (None, 16, 16, 128)       0         \n",
      "_________________________________________________________________\n",
      "dropout_1 (Dropout)          (None, 16, 16, 128)       0         \n",
      "_________________________________________________________________\n",
      "conv2d_3 (Conv2D)            (None, 16, 16, 128)       147584    \n",
      "_________________________________________________________________\n",
      "batch_normalization_3 (Batch (None, 16, 16, 128)       512       \n",
      "_________________________________________________________________\n",
      "activation_3 (Activation)    (None, 16, 16, 128)       0         \n",
      "_________________________________________________________________\n",
      "max_pooling2d_1 (MaxPooling2 (None, 8, 8, 128)         0         \n",
      "_________________________________________________________________\n",
      "conv2d_4 (Conv2D)            (None, 8, 8, 256)         295168    \n",
      "_________________________________________________________________\n",
      "batch_normalization_4 (Batch (None, 8, 8, 256)         1024      \n",
      "_________________________________________________________________\n",
      "activation_4 (Activation)    (None, 8, 8, 256)         0         \n",
      "_________________________________________________________________\n",
      "conv2d_5 (Conv2D)            (None, 8, 8, 256)         590080    \n",
      "_________________________________________________________________\n",
      "batch_normalization_5 (Batch (None, 8, 8, 256)         1024      \n",
      "_________________________________________________________________\n",
      "activation_5 (Activation)    (None, 8, 8, 256)         0         \n",
      "_________________________________________________________________\n",
      "dropout_2 (Dropout)          (None, 8, 8, 256)         0         \n",
      "_________________________________________________________________\n",
      "flatten (Flatten)            (None, 16384)             0         \n",
      "_________________________________________________________________\n",
      "dense (Dense)                (None, 256)               4194560   \n",
      "_________________________________________________________________\n",
      "dense_1 (Dense)              (None, 10)                2570      \n",
      "=================================================================\n",
      "Total params: 5,346,122\n",
      "Trainable params: 5,344,330\n",
      "Non-trainable params: 1,792\n",
      "_________________________________________________________________\n"
     ]
    }
   ],
   "source": [
    "weight_decay = 0.0005\n",
    "model = keras.models.Sequential([\n",
    "    keras.layers.Conv2D(64, (3, 3), padding='same', kernel_regularizer=keras.regularizers.l2(weight_decay), input_shape=x_train.shape[1:]),\n",
    "    keras.layers.BatchNormalization(),\n",
    "    keras.layers.Activation('relu'),\n",
    "    keras.layers.Dropout(0.4),\n",
    "\n",
    "    keras.layers.Conv2D(64, (3, 3), padding='same', kernel_regularizer=keras.regularizers.l2(weight_decay)),\n",
    "    keras.layers.BatchNormalization(),\n",
    "    keras.layers.Activation('relu'),\n",
    "    keras.layers.MaxPooling2D(pool_size=(2, 2)),\n",
    "\n",
    "    keras.layers.Conv2D(128, (3, 3), padding='same', kernel_regularizer=keras.regularizers.l2(weight_decay)),\n",
    "    keras.layers.BatchNormalization(),\n",
    "    keras.layers.Activation('relu'),\n",
    "    keras.layers.Dropout(0.4),\n",
    "\n",
    "    keras.layers.Conv2D(128, (3, 3), padding='same', kernel_regularizer=keras.regularizers.l2(weight_decay)),\n",
    "    keras.layers.BatchNormalization(),\n",
    "    keras.layers.Activation('relu'),\n",
    "    keras.layers.MaxPooling2D(pool_size=(2, 2)),\n",
    "\n",
    "    keras.layers.Conv2D(256, (3, 3), padding='same', kernel_regularizer=keras.regularizers.l2(weight_decay)),\n",
    "    keras.layers.BatchNormalization(),\n",
    "    keras.layers.Activation('relu'),\n",
    "\n",
    "    keras.layers.Conv2D(256, (3, 3), padding='same', kernel_regularizer=keras.regularizers.l2(weight_decay)),\n",
    "    keras.layers.BatchNormalization(),\n",
    "    keras.layers.Activation('relu'),\n",
    "    keras.layers.Dropout(0.4),\n",
    "\n",
    "    keras.layers.Flatten(),\n",
    "    keras.layers.Dense(256, activation='relu', kernel_regularizer=keras.regularizers.l2(weight_decay)),\n",
    "    keras.layers.Dense(10, activation='softmax')\n",
    "])\n",
    "\n",
    "model.summary()\n",
    "\n",
    "opt = keras.optimizers.Adam()\n",
    "loss = keras.losses.CategoricalCrossentropy()\n",
    "model.compile(loss=loss, optimizer=opt, metrics=['accuracy'])"
   ]
  },
  {
   "cell_type": "code",
   "execution_count": 8,
   "metadata": {},
   "outputs": [
    {
     "name": "stdout",
     "output_type": "stream",
     "text": [
      "Epoch 1/40\n",
      "938/938 - 39s - loss: 2.4121 - accuracy: 0.2938 - val_loss: 1.9914 - val_accuracy: 0.3903\n",
      "Epoch 2/40\n",
      "938/938 - 38s - loss: 1.6742 - accuracy: 0.4714 - val_loss: 1.5063 - val_accuracy: 0.5260\n",
      "Epoch 3/40\n",
      "938/938 - 33s - loss: 1.4796 - accuracy: 0.5439 - val_loss: 1.4448 - val_accuracy: 0.5721\n",
      "Epoch 4/40\n",
      "938/938 - 32s - loss: 1.3955 - accuracy: 0.5862 - val_loss: 1.5007 - val_accuracy: 0.5701\n",
      "Epoch 5/40\n",
      "938/938 - 32s - loss: 1.3610 - accuracy: 0.6190 - val_loss: 1.8723 - val_accuracy: 0.5083\n",
      "Epoch 6/40\n",
      "938/938 - 32s - loss: 1.3252 - accuracy: 0.6375 - val_loss: 1.5927 - val_accuracy: 0.5828\n",
      "Epoch 7/40\n",
      "938/938 - 32s - loss: 1.2873 - accuracy: 0.6588 - val_loss: 1.2137 - val_accuracy: 0.6919\n",
      "Epoch 8/40\n",
      "938/938 - 32s - loss: 1.2535 - accuracy: 0.6737 - val_loss: 1.3527 - val_accuracy: 0.6572\n",
      "Epoch 9/40\n",
      "938/938 - 32s - loss: 1.2224 - accuracy: 0.6880 - val_loss: 1.2558 - val_accuracy: 0.6967\n",
      "Epoch 10/40\n",
      "938/938 - 32s - loss: 1.2030 - accuracy: 0.7000 - val_loss: 1.3785 - val_accuracy: 0.6545\n",
      "Epoch 11/40\n",
      "938/938 - 32s - loss: 1.1747 - accuracy: 0.7115 - val_loss: 1.2554 - val_accuracy: 0.6910\n",
      "Epoch 12/40\n",
      "938/938 - 34s - loss: 1.1509 - accuracy: 0.7207 - val_loss: 1.0767 - val_accuracy: 0.7512\n",
      "Epoch 13/40\n",
      "938/938 - 34s - loss: 1.1309 - accuracy: 0.7285 - val_loss: 1.2313 - val_accuracy: 0.6964\n",
      "Epoch 14/40\n",
      "938/938 - 37s - loss: 1.1054 - accuracy: 0.7378 - val_loss: 1.0916 - val_accuracy: 0.7470\n",
      "Epoch 15/40\n",
      "938/938 - 34s - loss: 1.0946 - accuracy: 0.7425 - val_loss: 1.1496 - val_accuracy: 0.7286\n",
      "Epoch 16/40\n",
      "938/938 - 39s - loss: 1.0876 - accuracy: 0.7453 - val_loss: 1.0215 - val_accuracy: 0.7685\n",
      "Epoch 17/40\n",
      "938/938 - 34s - loss: 1.0730 - accuracy: 0.7540 - val_loss: 1.0657 - val_accuracy: 0.7614\n",
      "Epoch 18/40\n",
      "938/938 - 32s - loss: 1.0598 - accuracy: 0.7553 - val_loss: 0.9827 - val_accuracy: 0.7838\n",
      "Epoch 19/40\n",
      "938/938 - 32s - loss: 1.0501 - accuracy: 0.7591 - val_loss: 1.0224 - val_accuracy: 0.7670\n",
      "Epoch 20/40\n",
      "938/938 - 32s - loss: 1.0363 - accuracy: 0.7657 - val_loss: 1.0949 - val_accuracy: 0.7499\n",
      "Epoch 21/40\n",
      "938/938 - 32s - loss: 1.0348 - accuracy: 0.7655 - val_loss: 1.0376 - val_accuracy: 0.7679\n",
      "Epoch 22/40\n",
      "938/938 - 35s - loss: 1.0266 - accuracy: 0.7674 - val_loss: 1.2916 - val_accuracy: 0.7093\n",
      "Epoch 23/40\n",
      "938/938 - 33s - loss: 1.0294 - accuracy: 0.7692 - val_loss: 1.0691 - val_accuracy: 0.7610\n",
      "Epoch 24/40\n",
      "938/938 - 35s - loss: 1.0179 - accuracy: 0.7729 - val_loss: 1.1101 - val_accuracy: 0.7509\n",
      "Epoch 25/40\n",
      "938/938 - 33s - loss: 1.0180 - accuracy: 0.7712 - val_loss: 1.0744 - val_accuracy: 0.7618\n",
      "Epoch 26/40\n",
      "938/938 - 33s - loss: 1.0060 - accuracy: 0.7804 - val_loss: 1.2151 - val_accuracy: 0.7315\n",
      "Epoch 27/40\n",
      "938/938 - 33s - loss: 1.0032 - accuracy: 0.7777 - val_loss: 0.9757 - val_accuracy: 0.7904\n",
      "Epoch 28/40\n",
      "938/938 - 33s - loss: 1.0072 - accuracy: 0.7780 - val_loss: 0.9939 - val_accuracy: 0.7885\n",
      "Epoch 29/40\n",
      "938/938 - 36s - loss: 0.9995 - accuracy: 0.7800 - val_loss: 1.0463 - val_accuracy: 0.7741\n",
      "Epoch 30/40\n",
      "938/938 - 34s - loss: 0.9924 - accuracy: 0.7886 - val_loss: 1.0755 - val_accuracy: 0.7621\n",
      "Epoch 31/40\n",
      "938/938 - 33s - loss: 0.9983 - accuracy: 0.7820 - val_loss: 0.9967 - val_accuracy: 0.7861\n",
      "Epoch 32/40\n",
      "938/938 - 33s - loss: 0.9880 - accuracy: 0.7845 - val_loss: 1.1101 - val_accuracy: 0.7472\n",
      "Epoch 33/40\n",
      "938/938 - 36s - loss: 0.9807 - accuracy: 0.7854 - val_loss: 1.0075 - val_accuracy: 0.7874\n",
      "Epoch 34/40\n",
      "938/938 - 35s - loss: 0.9877 - accuracy: 0.7862 - val_loss: 0.9648 - val_accuracy: 0.7959\n",
      "Epoch 35/40\n",
      "938/938 - 34s - loss: 0.9808 - accuracy: 0.7866 - val_loss: 1.0299 - val_accuracy: 0.7715\n",
      "Epoch 36/40\n",
      "938/938 - 33s - loss: 0.9871 - accuracy: 0.7865 - val_loss: 0.9427 - val_accuracy: 0.8026\n",
      "Epoch 37/40\n",
      "938/938 - 35s - loss: 0.9790 - accuracy: 0.7860 - val_loss: 1.1330 - val_accuracy: 0.7492\n",
      "Epoch 38/40\n",
      "938/938 - 35s - loss: 0.9702 - accuracy: 0.7901 - val_loss: 0.9384 - val_accuracy: 0.8055\n",
      "Epoch 39/40\n",
      "938/938 - 34s - loss: 0.9702 - accuracy: 0.7901 - val_loss: 0.9134 - val_accuracy: 0.8072\n",
      "Epoch 40/40\n",
      "938/938 - 37s - loss: 0.9702 - accuracy: 0.7901 - val_loss: 0.8937 - val_accuracy: 0.7931\n"
     ]
    }
   ],
   "source": [
    "model.fit(datagen.flow(x_train, y_train), epochs=40, verbose=2, batch_size=64, validation_data=(x_test, y_test), workers=4)"
   ]
  },
  {
   "cell_type": "code",
   "execution_count": 9,
   "metadata": {},
   "outputs": [
    {
     "name": "stdout",
     "output_type": "stream",
     "text": [
      "313/313 [==============================] - 4s 12ms/step - loss: 0.9820 - accuracy: 0.7931\n"
     ]
    },
    {
     "data": {
      "text/plain": [
       "[0.9820287227630615, 0.7930999994277954]"
      ]
     },
     "execution_count": 9,
     "metadata": {},
     "output_type": "execute_result"
    }
   ],
   "source": [
    "model.evaluate(x_test, y_test)"
   ]
  }
 ],
 "metadata": {
  "interpreter": {
   "hash": "d3a5103e3b492ba7af4f71d1553195c04e9f5c9c31b45e8009e6c12cc9874818"
  },
  "kernelspec": {
   "display_name": "Python 3.9.7 64-bit ('tf3': conda)",
   "language": "python",
   "name": "python3"
  },
  "language_info": {
   "codemirror_mode": {
    "name": "ipython",
    "version": 3
   },
   "file_extension": ".py",
   "mimetype": "text/x-python",
   "name": "python",
   "nbconvert_exporter": "python",
   "pygments_lexer": "ipython3",
   "version": "3.9.7"
  },
  "orig_nbformat": 4
 },
 "nbformat": 4,
 "nbformat_minor": 2
}
