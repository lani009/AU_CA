{
 "cells": [
  {
   "cell_type": "code",
   "execution_count": 44,
   "metadata": {},
   "outputs": [],
   "source": [
    "import numpy as np\n",
    "\n",
    "# 시그모이드 함수\n",
    "def actf(x):\n",
    "\treturn 1/(1+np.exp(-x))\n",
    "\n",
    "# 시그모이드 함수의 미분값\n",
    "def actf_deriv(x):\n",
    "\t    return x*(1-x)\n",
    "    \n",
    "# XOR 연산을 위한 4행*2열의 입력 행렬\n",
    "# 마지막 열은 바이어스를 나타낸다. \n",
    "y = [0, 0, 0, 1, 0, 1, 0, 1, 0, 1, 0, 1, 0, 0, 0, 1]\n",
    "X = np.array([[0, 0, 0, 0, 1], [0, 0, 0, 1, 1], [0, 0, 1, 0, 1], [0, 0, 1, 1, 1], [0, 1, 0, 0, 1], [0, 1, 0, 1, 1], [0, 1, 1, 0, 1], [0, 1, 1, 1, 1],\\\n",
    "[1, 0, 0, 0, 1], [1, 0, 0, 1, 1], [1, 0, 1, 0, 1], [1, 0, 1, 1, 1], [1, 1, 0, 0, 1], [1, 1, 0, 1, 1], [1, 1, 1, 0, 1], [1, 1, 1, 1, 1]])\n",
    "                \n",
    "# XOR 연산을 위한 4행*1열의 목표 행렬\n",
    "y = np.array([[0], [0], [0], [1], [0], [1], [0], [1], [0], [1], [0], [1], [0], [0], [0], [1]])\n",
    "\n",
    "np.random.seed(5)\n",
    "\n",
    "inputs = 5\t# 입력층의 노드 개수\n",
    "hiddens = 4\t# 은닉층의 노드 개수\n",
    "outputs = 1\t# 출력층의 노드 개수\n",
    "\n",
    "# 가중치를 –1.0에서 1.0 사이의 난수로 초기화한다.\n",
    "weight0 = 2*np.random.random((inputs, hiddens))-1   \n",
    "weight1 = 2*np.random.random((hiddens, outputs))-1  \n",
    "\n",
    "# 반복한다. \n",
    "for i in range(10000):\n",
    "\n",
    "    # 순방향 계산\n",
    "    layer0 = X\t\t\t\t# 입력을 layer0에 대입한다. \n",
    "    net1 = np.dot(layer0, weight0)\t# 행렬의 곱을 계산한다. \n",
    "    layer1 = actf(net1)\t\t# 활성화 함수를 적용한다. \n",
    "    layer1[:,-1] = 1.0      \t#  마지막 열은 바이어스를 나타낸다. 1.0으로 만든다.\n",
    "    net2 = np.dot(layer1, weight1)\t# 행렬의 곱을 계산한다. \n",
    "    layer2 = actf(net2)\t\t# 활성화 함수를 적용한다. \n",
    "\n",
    "    # 출력층에서의 오차를 계산한다. \n",
    "    layer2_error = layer2-y\n",
    "        \n",
    "    # 출력층에서의 델타값을 계산한다. \n",
    "    layer2_delta = layer2_error*actf_deriv(layer2)\n",
    "\n",
    "    # 은닉층에서의 오차를 계산한다.\n",
    "    # 여기서 T는 행렬의 전치를 의미한다. \n",
    "    # 역방향으로 오차를 전파할 때는 반대방향이므로 행렬이 전치되어야 한다. \n",
    "    layer1_error = np.dot(layer2_delta, weight1.T)\n",
    "    \n",
    "    # 은닉층에서의 델타를 계산한다.\n",
    "    layer1_delta = layer1_error*actf_deriv(layer1)\n",
    "\n",
    "    # 은닉층->출력층을 연결하는 가중치를 수정한다. \n",
    "    weight1 += -0.2*np.dot(layer1.T, layer2_delta)\n",
    "\n",
    "    # 입력층->은닉층을 연결하는 가중치를 수정한다. \n",
    "    weight0 += -0.2*np.dot(layer0.T, layer1_delta)"
   ]
  },
  {
   "cell_type": "code",
   "execution_count": 45,
   "metadata": {},
   "outputs": [],
   "source": [
    "    layer0 = X\t# 입력을 layer0에 대입한다. \n",
    "    net1 = np.dot(layer0, weight0)\t# 행렬의 곱을 계산한다. \n",
    "    layer1 = actf(net1)\t\t# 활성화 함수를 적용한다. \n",
    "    layer1[:,-1] = 1.0      \t#  마지막 열은 바이어스를 나타낸다. 1.0으로 만든다.\n",
    "    net2 = np.dot(layer1, weight1)\t# 행렬의 곱을 계산한다. \n",
    "    layer2 = actf(net2)\t\t# 활성화 함수를 적용한다"
   ]
  },
  {
   "cell_type": "code",
   "execution_count": 46,
   "metadata": {},
   "outputs": [],
   "source": [
    "count = 0\n",
    "index = 0\n",
    "for y_hat in layer2:\n",
    "    if np.around(y_hat)[0] != y[index]:\n",
    "        count += 1\n",
    "    index += 1"
   ]
  },
  {
   "cell_type": "code",
   "execution_count": 47,
   "metadata": {},
   "outputs": [
    {
     "data": {
      "text/plain": [
       "0"
      ]
     },
     "execution_count": 47,
     "metadata": {},
     "output_type": "execute_result"
    }
   ],
   "source": [
    "count"
   ]
  },
  {
   "cell_type": "code",
   "execution_count": 34,
   "metadata": {},
   "outputs": [
    {
     "data": {
      "text/plain": [
       "array([[-4.77812752,  3.96605987,  1.11665653,  0.83722182],\n",
       "       [-4.7764352 ,  3.96657898,  1.23717648,  0.03683598],\n",
       "       [-4.06954703, -3.58630458, -2.93493173,  0.47688059],\n",
       "       [ 1.66436623, -6.3659999 ,  5.75789898, -0.45182708]])"
      ]
     },
     "execution_count": 34,
     "metadata": {},
     "output_type": "execute_result"
    }
   ],
   "source": [
    "weight0"
   ]
  },
  {
   "cell_type": "code",
   "execution_count": 35,
   "metadata": {},
   "outputs": [
    {
     "data": {
      "text/plain": [
       "array([[-10.26437877],\n",
       "       [-10.44273139],\n",
       "       [  8.42089638],\n",
       "       [ -3.34945408]])"
      ]
     },
     "execution_count": 35,
     "metadata": {},
     "output_type": "execute_result"
    }
   ],
   "source": [
    "weight1"
   ]
  },
  {
   "cell_type": "code",
   "execution_count": null,
   "metadata": {},
   "outputs": [],
   "source": []
  }
 ],
 "metadata": {
  "interpreter": {
   "hash": "be05cb1f2a19d291b770588f192d3c464aa852eb972bdaae44e99ab3e30603b2"
  },
  "kernelspec": {
   "display_name": "Python 3.7.9 32-bit ('kiwoom': conda)",
   "language": "python",
   "name": "python3"
  },
  "language_info": {
   "codemirror_mode": {
    "name": "ipython",
    "version": 3
   },
   "file_extension": ".py",
   "mimetype": "text/x-python",
   "name": "python",
   "nbconvert_exporter": "python",
   "pygments_lexer": "ipython3",
   "version": "3.8.5"
  },
  "orig_nbformat": 4
 },
 "nbformat": 4,
 "nbformat_minor": 2
}
