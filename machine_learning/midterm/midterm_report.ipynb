{
  "cells": [
    {
      "cell_type": "markdown",
      "metadata": {
        "id": "TS1Yus4opatH"
      },
      "source": [
        "# 기계학습 중간고사 대체 레포트\n",
        "\n",
        "\n",
        "**문제안내**\n",
        " - 본 레포트는 1) 기대수명 예측문제 2) 숫자이미지 예측문제 두 가지 문제를 회귀와 분류로 각각 풀어보는데 목적이 있습니다. 1)기대수명 예측문제는 회기로 풀어야 할 문제로 보이나 분류로도 풀 수 있습니다. 반대로 2) 숫자이미지 예측문제도 분류문제로 보이나 회기 문제로 풀 수 있습니다. 2가지 문제를 회기와 분류 2가지 방법으로 풀어보고, 회기와 분류가 어떤 역할을 하고 어떤 문제에 적용해야 하는지에 대해 이해하면 좋겠습니다. 아래 안내를 참조해서 각 문제를 코딩하고 결과를 실험정리/분석 문서에 작성해서 제출해 주세요.\n",
        "\n",
        "**풀어야 할 문제**\n",
        " 1. 기대수명 예측하기 (회기/분류)\n",
        " 2. 숫자이미지 예측하기 (회기/분류) \n",
        "\n",
        "**제출해야 할 것**: 소스코드 (ipynb파일) + 실험정리/분석 문서 (pdf)\n",
        "\n",
        "**제출마감일**: 4월 29일 오후 5시\n",
        "\n",
        "**제출포맷**\n",
        " 1. 소스코드: ipynb 파일로 제출. 컴파일한 결과가 출력된 상태로 제출해야 합니다. 중간 결과가 출력되도록 코드를 작성하는 것을 추천합니다.\n",
        " 2. 실험정리/분석 문서: pdf 파일로 제출. 실험결과는 테이블 형태로 정리해야 하며 분석은 줄글로 작성 가능합니다. \n",
        "\n",
        "**소스코드**\n",
        "- 소스코드는 주석이 있는 것이 좋으며, 중간중간 결과를 출력해 보는 것을 추천합니다. [문제1]~[문제5] 부분에 여러분들이 직접 코딩을 한 후 ipynb 파일을 제출하면 됩니다.\n",
        "\n",
        "**실험정리/분석 문서**\n",
        "1. [문제1]~[문제5]의 결과를 테이블 하나에 정리하세요. 배점 10점\n",
        "2. [문제1]~[문제4]를 분석하세요. 회기(linear regression)이 분류(knn)에 비해 1)기대수명 예측 2)숫자이미지 예측 중 어떤 문제를 더 잘푸는지 분석하고, 왜 더 잘푸는지 설명하세요. 또한 분류(knn)이 회기(linear regression)에 비해 어떤 문제를 더 잘푸는지 분석하고, 그 이유를 설명하세요. 배점 20점 \n",
        "\n",
        "\n"
      ]
    },
    {
      "cell_type": "markdown",
      "metadata": {
        "id": "SlWPs9zL5U_t"
      },
      "source": [
        "# 수명데이터 예측하기 "
      ]
    },
    {
      "cell_type": "markdown",
      "metadata": {
        "id": "D_ZqtpIk8dOh"
      },
      "source": [
        "data load"
      ]
    },
    {
      "cell_type": "code",
      "execution_count": 1,
      "metadata": {
        "id": "TUen9i2D5VPC"
      },
      "outputs": [],
      "source": [
        "import pandas as pd\n",
        "\n",
        "data_loc = 'https://github.com/dknife/ML/raw/main/data/'\n",
        "life = pd.read_csv(data_loc + 'life_expectancy.csv')\n",
        "life.dropna(inplace = True)\n",
        "\n",
        "X = life[['Alcohol', 'Percentage expenditure', 'Polio',\n",
        "         'BMI', 'GDP', 'Thinness 1-19 years']]\n",
        "y = life['Life expectancy']"
      ]
    },
    {
      "cell_type": "code",
      "execution_count": 2,
      "metadata": {},
      "outputs": [
        {
          "data": {
            "text/html": [
              "<div>\n",
              "<style scoped>\n",
              "    .dataframe tbody tr th:only-of-type {\n",
              "        vertical-align: middle;\n",
              "    }\n",
              "\n",
              "    .dataframe tbody tr th {\n",
              "        vertical-align: top;\n",
              "    }\n",
              "\n",
              "    .dataframe thead th {\n",
              "        text-align: right;\n",
              "    }\n",
              "</style>\n",
              "<table border=\"1\" class=\"dataframe\">\n",
              "  <thead>\n",
              "    <tr style=\"text-align: right;\">\n",
              "      <th></th>\n",
              "      <th>Country</th>\n",
              "      <th>Year</th>\n",
              "      <th>Status</th>\n",
              "      <th>Life expectancy</th>\n",
              "      <th>Adult mortality</th>\n",
              "      <th>Infant deaths</th>\n",
              "      <th>Alcohol</th>\n",
              "      <th>Percentage expenditure</th>\n",
              "      <th>Hepatitis B</th>\n",
              "      <th>Measles</th>\n",
              "      <th>...</th>\n",
              "      <th>Polio</th>\n",
              "      <th>Total expenditure</th>\n",
              "      <th>Diphtheria</th>\n",
              "      <th>HIV/AIDS</th>\n",
              "      <th>GDP</th>\n",
              "      <th>Population</th>\n",
              "      <th>Thinness 1-19 years</th>\n",
              "      <th>Thinness 5-9 years</th>\n",
              "      <th>Income composition of resources</th>\n",
              "      <th>Schooling</th>\n",
              "    </tr>\n",
              "  </thead>\n",
              "  <tbody>\n",
              "    <tr>\n",
              "      <th>0</th>\n",
              "      <td>Afghanistan</td>\n",
              "      <td>2015</td>\n",
              "      <td>Developing</td>\n",
              "      <td>65.0</td>\n",
              "      <td>263.0</td>\n",
              "      <td>62</td>\n",
              "      <td>0.01</td>\n",
              "      <td>71.279624</td>\n",
              "      <td>65.0</td>\n",
              "      <td>1154</td>\n",
              "      <td>...</td>\n",
              "      <td>6.0</td>\n",
              "      <td>8.16</td>\n",
              "      <td>65.0</td>\n",
              "      <td>0.1</td>\n",
              "      <td>584.259210</td>\n",
              "      <td>33736494.0</td>\n",
              "      <td>17.2</td>\n",
              "      <td>17.3</td>\n",
              "      <td>0.479</td>\n",
              "      <td>10.1</td>\n",
              "    </tr>\n",
              "    <tr>\n",
              "      <th>1</th>\n",
              "      <td>Afghanistan</td>\n",
              "      <td>2014</td>\n",
              "      <td>Developing</td>\n",
              "      <td>59.9</td>\n",
              "      <td>271.0</td>\n",
              "      <td>64</td>\n",
              "      <td>0.01</td>\n",
              "      <td>73.523582</td>\n",
              "      <td>62.0</td>\n",
              "      <td>492</td>\n",
              "      <td>...</td>\n",
              "      <td>58.0</td>\n",
              "      <td>8.18</td>\n",
              "      <td>62.0</td>\n",
              "      <td>0.1</td>\n",
              "      <td>612.696514</td>\n",
              "      <td>327582.0</td>\n",
              "      <td>17.5</td>\n",
              "      <td>17.5</td>\n",
              "      <td>0.476</td>\n",
              "      <td>10.0</td>\n",
              "    </tr>\n",
              "    <tr>\n",
              "      <th>2</th>\n",
              "      <td>Afghanistan</td>\n",
              "      <td>2013</td>\n",
              "      <td>Developing</td>\n",
              "      <td>59.9</td>\n",
              "      <td>268.0</td>\n",
              "      <td>66</td>\n",
              "      <td>0.01</td>\n",
              "      <td>73.219243</td>\n",
              "      <td>64.0</td>\n",
              "      <td>430</td>\n",
              "      <td>...</td>\n",
              "      <td>62.0</td>\n",
              "      <td>8.13</td>\n",
              "      <td>64.0</td>\n",
              "      <td>0.1</td>\n",
              "      <td>631.744976</td>\n",
              "      <td>31731688.0</td>\n",
              "      <td>17.7</td>\n",
              "      <td>17.7</td>\n",
              "      <td>0.470</td>\n",
              "      <td>9.9</td>\n",
              "    </tr>\n",
              "    <tr>\n",
              "      <th>3</th>\n",
              "      <td>Afghanistan</td>\n",
              "      <td>2012</td>\n",
              "      <td>Developing</td>\n",
              "      <td>59.5</td>\n",
              "      <td>272.0</td>\n",
              "      <td>69</td>\n",
              "      <td>0.01</td>\n",
              "      <td>78.184215</td>\n",
              "      <td>67.0</td>\n",
              "      <td>2787</td>\n",
              "      <td>...</td>\n",
              "      <td>67.0</td>\n",
              "      <td>8.52</td>\n",
              "      <td>67.0</td>\n",
              "      <td>0.1</td>\n",
              "      <td>669.959000</td>\n",
              "      <td>3696958.0</td>\n",
              "      <td>17.9</td>\n",
              "      <td>18.0</td>\n",
              "      <td>0.463</td>\n",
              "      <td>9.8</td>\n",
              "    </tr>\n",
              "    <tr>\n",
              "      <th>4</th>\n",
              "      <td>Afghanistan</td>\n",
              "      <td>2011</td>\n",
              "      <td>Developing</td>\n",
              "      <td>59.2</td>\n",
              "      <td>275.0</td>\n",
              "      <td>71</td>\n",
              "      <td>0.01</td>\n",
              "      <td>7.097109</td>\n",
              "      <td>68.0</td>\n",
              "      <td>3013</td>\n",
              "      <td>...</td>\n",
              "      <td>68.0</td>\n",
              "      <td>7.87</td>\n",
              "      <td>68.0</td>\n",
              "      <td>0.1</td>\n",
              "      <td>63.537231</td>\n",
              "      <td>2978599.0</td>\n",
              "      <td>18.2</td>\n",
              "      <td>18.2</td>\n",
              "      <td>0.454</td>\n",
              "      <td>9.5</td>\n",
              "    </tr>\n",
              "  </tbody>\n",
              "</table>\n",
              "<p>5 rows × 22 columns</p>\n",
              "</div>"
            ],
            "text/plain": [
              "       Country  Year      Status  Life expectancy  Adult mortality  \\\n",
              "0  Afghanistan  2015  Developing             65.0            263.0   \n",
              "1  Afghanistan  2014  Developing             59.9            271.0   \n",
              "2  Afghanistan  2013  Developing             59.9            268.0   \n",
              "3  Afghanistan  2012  Developing             59.5            272.0   \n",
              "4  Afghanistan  2011  Developing             59.2            275.0   \n",
              "\n",
              "   Infant deaths  Alcohol  Percentage expenditure  Hepatitis B  Measles  ...  \\\n",
              "0             62     0.01               71.279624         65.0     1154  ...   \n",
              "1             64     0.01               73.523582         62.0      492  ...   \n",
              "2             66     0.01               73.219243         64.0      430  ...   \n",
              "3             69     0.01               78.184215         67.0     2787  ...   \n",
              "4             71     0.01                7.097109         68.0     3013  ...   \n",
              "\n",
              "   Polio  Total expenditure  Diphtheria   HIV/AIDS         GDP  Population  \\\n",
              "0    6.0               8.16         65.0       0.1  584.259210  33736494.0   \n",
              "1   58.0               8.18         62.0       0.1  612.696514    327582.0   \n",
              "2   62.0               8.13         64.0       0.1  631.744976  31731688.0   \n",
              "3   67.0               8.52         67.0       0.1  669.959000   3696958.0   \n",
              "4   68.0               7.87         68.0       0.1   63.537231   2978599.0   \n",
              "\n",
              "   Thinness 1-19 years  Thinness 5-9 years  Income composition of resources  \\\n",
              "0                 17.2                17.3                            0.479   \n",
              "1                 17.5                17.5                            0.476   \n",
              "2                 17.7                17.7                            0.470   \n",
              "3                 17.9                18.0                            0.463   \n",
              "4                 18.2                18.2                            0.454   \n",
              "\n",
              "   Schooling  \n",
              "0       10.1  \n",
              "1       10.0  \n",
              "2        9.9  \n",
              "3        9.8  \n",
              "4        9.5  \n",
              "\n",
              "[5 rows x 22 columns]"
            ]
          },
          "execution_count": 2,
          "metadata": {},
          "output_type": "execute_result"
        }
      ],
      "source": [
        "life.head()"
      ]
    },
    {
      "cell_type": "markdown",
      "metadata": {
        "id": "jkj8eZGe8fYG"
      },
      "source": [
        "학습데이터 테스트데이터 나누기"
      ]
    },
    {
      "cell_type": "code",
      "execution_count": 3,
      "metadata": {
        "id": "iA-n0ijb8RZT"
      },
      "outputs": [],
      "source": [
        "from sklearn.model_selection import train_test_split\n",
        "X_train, X_test, y_train, y_test = train_test_split(X, y, test_size=0.2)"
      ]
    },
    {
      "cell_type": "markdown",
      "metadata": {
        "id": "vPLNx2dv8apL"
      },
      "source": [
        "[문제1] 회기로(linear_regression) 수명 예측하기. 배점 10점"
      ]
    },
    {
      "cell_type": "code",
      "execution_count": 4,
      "metadata": {
        "id": "qbMad6ka8Gxq"
      },
      "outputs": [
        {
          "data": {
            "text/plain": [
              "LinearRegression()"
            ]
          },
          "execution_count": 4,
          "metadata": {},
          "output_type": "execute_result"
        }
      ],
      "source": [
        "### [code] sklearn의 LinearRegression함수로 X_train을 학습하고 X_test의 수명을 예측하는 코드 만들기\n",
        "from sklearn.linear_model import LinearRegression\n",
        "\n",
        "life_regression = LinearRegression()\n",
        "life_regression.fit(X_train, y_train)"
      ]
    },
    {
      "cell_type": "code",
      "execution_count": 5,
      "metadata": {
        "id": "DoaTnukV87-R"
      },
      "outputs": [
        {
          "name": "stdout",
          "output_type": "stream",
          "text": [
            "MSE: 44.12654387814651\n"
          ]
        }
      ],
      "source": [
        "### [code] 예측한 X_test의 수명과 정답 y_test를 비교하여 mean square error 구하기\n",
        "from sklearn.metrics import mean_squared_error\n",
        "\n",
        "print('MSE:', mean_squared_error(y_test, life_regression.predict(X_test)))"
      ]
    },
    {
      "cell_type": "markdown",
      "metadata": {
        "id": "6UQdiyl29NCx"
      },
      "source": [
        "[문제2] 분류로(knn) 수명 예측하기. 배점 15점\n",
        "\n",
        "sklearn의 knn함수는 default 하이퍼파라미터를 사용해야 합니다. 즉, 학습데이터와 레이블 이외에 하이퍼파라미터는 직접설정하지 말고 기본 값을 사용하도록 하세요."
      ]
    },
    {
      "cell_type": "code",
      "execution_count": 6,
      "metadata": {},
      "outputs": [
        {
          "data": {
            "text/plain": [
              "685     78.5\n",
              "888     68.0\n",
              "1980    61.8\n",
              "776     73.6\n",
              "1148    72.5\n",
              "Name: Life expectancy, dtype: float64"
            ]
          },
          "execution_count": 6,
          "metadata": {},
          "output_type": "execute_result"
        }
      ],
      "source": [
        "y_train.head()"
      ]
    },
    {
      "cell_type": "code",
      "execution_count": 7,
      "metadata": {},
      "outputs": [
        {
          "data": {
            "text/plain": [
              "(1319,)"
            ]
          },
          "execution_count": 7,
          "metadata": {},
          "output_type": "execute_result"
        }
      ],
      "source": [
        "import numpy as np\n",
        "y_train.shape"
      ]
    },
    {
      "cell_type": "code",
      "execution_count": 8,
      "metadata": {
        "id": "2S_iELyA9Zq0"
      },
      "outputs": [
        {
          "data": {
            "text/plain": [
              "685     78.0\n",
              "888     68.0\n",
              "1980    62.0\n",
              "776     74.0\n",
              "1148    72.0\n",
              "Name: Life expectancy, dtype: float64"
            ]
          },
          "execution_count": 8,
          "metadata": {},
          "output_type": "execute_result"
        }
      ],
      "source": [
        "### [code] sklearn의 knn함수로 X_train을 학습하고 X_test의 수명을 예측하는 코드 만들기\n",
        "### knn을 학습하기 위해서 y_train를 반올림하여 정수형태로 type-casting해야 함. 즉 기대수명을 소수점이 있는 81.72세가 아니라 반올림한 정수 82세로 바꿔야 함. 따라서 1세 단위로 class가 구분되는 것임. \n",
        "y_int_train = np.rint(y_train)\n",
        "y_int_train.head()"
      ]
    },
    {
      "cell_type": "code",
      "execution_count": 9,
      "metadata": {},
      "outputs": [],
      "source": [
        "from sklearn.neighbors import KNeighborsClassifier"
      ]
    },
    {
      "cell_type": "code",
      "execution_count": 10,
      "metadata": {},
      "outputs": [
        {
          "name": "stdout",
          "output_type": "stream",
          "text": [
            "MSE: 62.98463636363636\n",
            "MSE: 94.71615151515152\n",
            "MSE: 103.43796969696969\n"
          ]
        }
      ],
      "source": [
        "knn1 = KNeighborsClassifier(n_neighbors=1)\n",
        "knn1.fit(X_train, y_int_train)\n",
        "print('MSE:', mean_squared_error(y_test, knn1.predict(X_test)))\n",
        "\n",
        "knn3 = KNeighborsClassifier(n_neighbors=3)\n",
        "knn3.fit(X_train, y_int_train)\n",
        "print('MSE:', mean_squared_error(y_test, knn3.predict(X_test)))\n",
        "\n",
        "knn5 = KNeighborsClassifier(n_neighbors=5)\n",
        "knn5.fit(X_train, y_int_train)\n",
        "print('MSE:', mean_squared_error(y_test, knn5.predict(X_test)))"
      ]
    },
    {
      "cell_type": "code",
      "execution_count": 11,
      "metadata": {
        "id": "f3ZcwoQr9ksG"
      },
      "outputs": [
        {
          "name": "stdout",
          "output_type": "stream",
          "text": [
            "k=1 MSE: 62.98463636363636\n",
            "k=3 MSE: 94.71615151515152\n",
            "k=5 MSE: 103.43796969696969\n"
          ]
        }
      ],
      "source": [
        "### [code] 예측한 X_test의 수명과 정답 y_test를 비교하여 mean square error 구하기\n",
        "### k=1,3,5 일 때 각각의 accuracy성능을 구해야 함\n",
        "\n",
        "from sklearn.metrics import accuracy_score\n",
        "\n",
        "print('k=1 MSE:', mean_squared_error(y_test, knn1.predict(X_test)))\n",
        "print('k=3 MSE:', mean_squared_error(y_test, knn3.predict(X_test)))\n",
        "print('k=5 MSE:', mean_squared_error(y_test, knn5.predict(X_test)))"
      ]
    },
    {
      "cell_type": "markdown",
      "metadata": {
        "id": "DY0pyB9j76i7"
      },
      "source": [
        "#MNIST 숫자 이미지 예측하기"
      ]
    },
    {
      "cell_type": "markdown",
      "metadata": {
        "id": "aVeQLxgDv6q0"
      },
      "source": [
        " MNIST dataset load"
      ]
    },
    {
      "cell_type": "code",
      "execution_count": 12,
      "metadata": {
        "id": "AC6MV1H5cx8e"
      },
      "outputs": [],
      "source": [
        "from sklearn.datasets import fetch_openml\n",
        "from sklearn.model_selection import train_test_split\n",
        "mnist = fetch_openml('mnist_784', cache=False)\n",
        "X = mnist.data.astype('float32')\n",
        "y = mnist.target.astype('int64')\n",
        "X /= 255.0"
      ]
    },
    {
      "cell_type": "markdown",
      "metadata": {
        "id": "2SGSd-Zd73nZ"
      },
      "source": [
        "데이터 확인하기"
      ]
    },
    {
      "cell_type": "code",
      "execution_count": 13,
      "metadata": {
        "colab": {
          "base_uri": "https://localhost:8080/",
          "height": 108
        },
        "id": "3LkTyg0a03Uh",
        "outputId": "1de97053-3047-4d2a-897c-e872346f8062"
      },
      "outputs": [
        {
          "data": {
            "image/png": "[encoded data removed]",
            "text/plain": [
              "<Figure size 432x288 with 5 Axes>"
            ]
          },
          "metadata": {},
          "output_type": "display_data"
        }
      ],
      "source": [
        "import matplotlib.pyplot as plt\n",
        "def plot_example(X, y):\n",
        "    \"\"\"Plot the first 5 images and their labels in a row.\"\"\"\n",
        "    for i, (img, y) in enumerate(zip(X[:5].values.reshape(5, 28, 28), y[:5])):\n",
        "        plt.subplot(151 + i)\n",
        "        plt.imshow(img)\n",
        "        plt.xticks([])\n",
        "        plt.yticks([])\n",
        "        plt.title(y)\n",
        "plot_example(X, y)"
      ]
    },
    {
      "cell_type": "code",
      "execution_count": 14,
      "metadata": {
        "id": "QLCOPMNCw5bT"
      },
      "outputs": [],
      "source": [
        "from sklearn.model_selection import train_test_split\n",
        "X_train, X_test, y_train, y_test = train_test_split(X, y, test_size=0.2, random_state=0)"
      ]
    },
    {
      "cell_type": "markdown",
      "metadata": {
        "id": "xeE8r8D0pYDt"
      },
      "source": [
        "[문제3] 분류로(KNN) 숫자 분류하기. 배점 10점\n",
        "\n",
        "sklearn의 knn함수는 default 하이퍼파라미터를 사용해야 합니다. 즉, 학습데이터와 레이블 이외에 하이퍼파라미터는 직접설정하지 말고 기본 값을 사용하도록 하세요."
      ]
    },
    {
      "cell_type": "code",
      "execution_count": 15,
      "metadata": {
        "id": "oVHnskiIpXd-"
      },
      "outputs": [
        {
          "name": "stdout",
          "output_type": "stream",
          "text": [
            "Accuracy: 0.9662142857142857\n"
          ]
        }
      ],
      "source": [
        "### [code] sklearn의 KNeighborsClassifier함수로 X_train을 학습하고 X_test의 레이블을 예측하는 코드 만들기\n",
        "knn = KNeighborsClassifier(n_neighbors=10)\n",
        "knn.fit(X_train, y_train)\n",
        "print('Accuracy:', accuracy_score(y_test, knn.predict(X_test)))"
      ]
    },
    {
      "cell_type": "code",
      "execution_count": 16,
      "metadata": {
        "id": "R-LJT_kR2Fo8"
      },
      "outputs": [
        {
          "name": "stdout",
          "output_type": "stream",
          "text": [
            "k=1 Accuracy: 0.9703571428571428\n",
            "k=3 Accuracy: 0.9717857142857143\n",
            "k=5 Accuracy: 0.9693571428571428\n"
          ]
        }
      ],
      "source": [
        "### [code] 예측한 X_test 레이블의 accuracy(예측결과가 정답과 일치한 샘풀 숫자 / 전체 샘플 숫자) 구하기 (sklearn 이용가능)\n",
        "### k=1,3,5 일 때 각각의 accuracy성능을 구해야 함\n",
        "knn1 = KNeighborsClassifier(n_neighbors=1)\n",
        "knn1.fit(X_train, y_train)\n",
        "\n",
        "knn3 = KNeighborsClassifier(n_neighbors=3)\n",
        "knn3.fit(X_train, y_train)\n",
        "\n",
        "knn5 = KNeighborsClassifier(n_neighbors=5)\n",
        "knn5.fit(X_train, y_train)\n",
        "\n",
        "print('k=1 Accuracy:', accuracy_score(y_test, knn1.predict(X_test)))\n",
        "print('k=3 Accuracy:', accuracy_score(y_test, knn3.predict(X_test)))\n",
        "print('k=5 Accuracy:', accuracy_score(y_test, knn5.predict(X_test)))"
      ]
    },
    {
      "cell_type": "markdown",
      "metadata": {
        "id": "EDZBMRXt2iJ6"
      },
      "source": [
        "[문제4] 회기로(linear_regression) 숫자 분류하기. 배점 15점"
      ]
    },
    {
      "cell_type": "code",
      "execution_count": 17,
      "metadata": {
        "id": "RMTfql9l2b-a"
      },
      "outputs": [
        {
          "data": {
            "text/plain": [
              "LinearRegression()"
            ]
          },
          "execution_count": 17,
          "metadata": {},
          "output_type": "execute_result"
        }
      ],
      "source": [
        "### [code] sklearn의 LinearRegression함수로 X_train을 학습하고 X_test의 레이블을 예측하는 코드 만들기\n",
        "from sklearn.linear_model import LinearRegression\n",
        "\n",
        "lin = LinearRegression()\n",
        "lin.fit(X_train, y_train)"
      ]
    },
    {
      "cell_type": "code",
      "execution_count": 18,
      "metadata": {
        "id": "ELqs5GTr284h"
      },
      "outputs": [
        {
          "name": "stdout",
          "output_type": "stream",
          "text": [
            "Accuracy: 0.22564285714285715\n"
          ]
        }
      ],
      "source": [
        "### [code] 예측한 X_test 레이블의 accuracy(예측결과가 정답과 일치한 샘풀 숫자 / 전체 샘플 숫자) 구하기 (sklearn 이용가능)\n",
        "### 이 때 예측결과는 반올림하여 정수로 type-casting해야 함\n",
        "y_pred = lin.predict(X_test)\n",
        "y_pred = np.rint(y_pred)\n",
        "\n",
        "print('Accuracy:', accuracy_score(y_test, y_pred))"
      ]
    },
    {
      "cell_type": "markdown",
      "metadata": {
        "id": "1f5_7jXg3ZfI"
      },
      "source": [
        "[문제5] KNN 알고리즘 직접 구현하기. 배점 20점\n",
        "\n",
        "이미 sklearn등 수 많은 라이브러리에서 기계학습 알고리즘이 제공되고 있습니다. 이들 라이브러리에서 함수를 사용하는 것이 간편하기는 하지만, 언젠가는 우리도 직접 알고리즘을 구현해야 할 필요가 있을 겁니다. 그래서 KNN알고리즘을 여러분들이 직접 구현하고 위 2가지 문제들, 1)수명예측 2)숫자분류, 에 적용하여 성능을 구해 보세요. 여러분들이 구현한 KNN 함수와 sklearn의 함수의 성능이 동일한지 확인해 보세요. 아주 약간의 차이가 있는 것은 괜찮습니다. KNN알고리즘에는 몇가지 하이퍼 파라미터 들이 있습니다. 아래 주소에서 어떤 하이퍼 파라미터 들이 있는지 알 수 있는데요. 이 하이퍼파라미터를 어떻게 사용하는지에 따라 성능이 약간 차이가 있습니다. \n",
        "sklearn의 KNN 함수 설명: https://scikit-learn.org/stable/modules/generated/sklearn.neighbors.KNeighborsClassifier.html\n",
        "\n",
        "최대한 sklearn의 knn함수와 동일한 하이퍼파라미터를 이용해서 비슷한 성능이 나오도록 하세요. 5%이내의 성능차이까지는 인정하도록 하겠습니다. 즉 sklearn의 knn함수와 비교해서 여러분이 만든 함수의 성능이 5%이내로 안 좋은 것은 문제를 제대로 푼 것으로 하겠습니다. 예를 들어 sklearn의 knn함수는 accuracy가 0.8이라고 한다면 0.8의 95%인 0.76이상인 것은 정답으로 인정하겠습니다. sklearn의 knn함수보다 여러분의 knn함수가 성능이 더 좋은 것은 범위에 관계 없이 다 정답입니다.\n",
        "\n",
        "sklearn의 knn함수는 default 하이퍼파라미터를 사용해야 합니다. 즉, 학습데이터와 레이블 이외에 하이퍼파라미터는 직접설정하지 말고 기본 값을 사용하도록 하세요."
      ]
    },
    {
      "cell_type": "code",
      "execution_count": 19,
      "metadata": {},
      "outputs": [],
      "source": [
        "class KNN():\n",
        "    n_neighbor = 5\n",
        "    def __init__(self, n_neighbor=5):\n",
        "        self.n_neighbor = n_neighbor\n",
        "\n",
        "    def fit(self, x, y):\n",
        "        self.X = x.to_numpy()\n",
        "        self.y = y.to_numpy()\n",
        "\n",
        "    def predict(self, x):\n",
        "        dist_list = self.X - x\n",
        "        dist_list = np.power(dist_list, 2)\n",
        "        dist_list = np.sqrt(np.sum(dist_list, 1))   # 기존 픽셀값과 x의 픽셀값을 각 요소별로 뺀 후, 제곱 후에 열을 합산 후 sqrt\n",
        "        neighbor = np.column_stack((dist_list, self.y))\n",
        "        neighbor = neighbor[neighbor[:, 0].argsort()]\n",
        "        # print(neighbor)\n",
        "        label_count = {}\n",
        "        for i in range(self.n_neighbor):\n",
        "            # print(neighbor[i][1])\n",
        "            if (neighbor[i][1] not in label_count.keys()):\n",
        "                label_count[neighbor[i][1]] = 1\n",
        "            else:\n",
        "                label_count[neighbor[i][1]] += 1\n",
        "\n",
        "        # print(label_count)\n",
        "        large = -1\n",
        "        large_label = -1\n",
        "        for key in label_count.keys():\n",
        "            if (label_count[key] > large):\n",
        "                large_label = key\n",
        "                large = label_count[key]\n",
        "        return large_label"
      ]
    },
    {
      "cell_type": "markdown",
      "metadata": {},
      "source": [
        "## 직접 개발한 KNN으로 수명 예측"
      ]
    },
    {
      "cell_type": "code",
      "execution_count": 20,
      "metadata": {},
      "outputs": [
        {
          "data": {
            "text/plain": [
              "2837    68.0\n",
              "1152    71.0\n",
              "1456    70.0\n",
              "2580    72.0\n",
              "2372    67.0\n",
              "Name: Life expectancy, dtype: float64"
            ]
          },
          "execution_count": 20,
          "metadata": {},
          "output_type": "execute_result"
        }
      ],
      "source": [
        "data_loc = 'https://github.com/dknife/ML/raw/main/data/'\n",
        "life = pd.read_csv(data_loc + 'life_expectancy.csv')\n",
        "life.dropna(inplace = True)\n",
        "\n",
        "X = life[['Alcohol', 'Percentage expenditure', 'Polio',\n",
        "         'BMI', 'GDP', 'Thinness 1-19 years']]\n",
        "y = life['Life expectancy']\n",
        "\n",
        "from sklearn.model_selection import train_test_split\n",
        "X_train, X_test, y_train, y_test = train_test_split(X, y, test_size=0.2)\n",
        "\n",
        "y_int_train = np.rint(y_train)\n",
        "y_int_train.head()"
      ]
    },
    {
      "cell_type": "code",
      "execution_count": 21,
      "metadata": {},
      "outputs": [],
      "source": [
        "knn = KNN(n_neighbor=1)\n",
        "knn.fit(X_train, y_int_train)\n",
        "\n",
        "X_test_np = X_test.to_numpy()"
      ]
    },
    {
      "cell_type": "code",
      "execution_count": 22,
      "metadata": {},
      "outputs": [
        {
          "data": {
            "text/plain": [
              "80.0"
            ]
          },
          "execution_count": 22,
          "metadata": {},
          "output_type": "execute_result"
        }
      ],
      "source": [
        "knn.predict(X_test_np[0])"
      ]
    },
    {
      "cell_type": "code",
      "execution_count": 23,
      "metadata": {},
      "outputs": [],
      "source": [
        "y_pred = []\n",
        "for x in X_test_np:\n",
        "    y_pred.append(knn.predict(x))"
      ]
    },
    {
      "cell_type": "code",
      "execution_count": 24,
      "metadata": {},
      "outputs": [
        {
          "name": "stdout",
          "output_type": "stream",
          "text": [
            "Life expectancy MSE: 77.49836363636364\n"
          ]
        }
      ],
      "source": [
        "print('Life expectancy MSE:', mean_squared_error(y_test, y_pred))"
      ]
    },
    {
      "cell_type": "code",
      "execution_count": 25,
      "metadata": {},
      "outputs": [],
      "source": [
        "knn1 = KNN(n_neighbor=1)\n",
        "knn1.fit(X_train, y_train)\n",
        "knn3 = KNN(n_neighbor=3)\n",
        "knn3.fit(X_train, y_train)\n",
        "knn5 = KNN(n_neighbor=5)\n",
        "knn5.fit(X_train, y_train)"
      ]
    },
    {
      "cell_type": "code",
      "execution_count": 26,
      "metadata": {},
      "outputs": [
        {
          "name": "stdout",
          "output_type": "stream",
          "text": [
            "1NN Life expectancy MSE: 77.16736363636363\n"
          ]
        }
      ],
      "source": [
        "y_pred = []\n",
        "for x in X_test_np:\n",
        "    y_pred.append(knn1.predict(x))\n",
        "print('1NN Life expectancy MSE:', mean_squared_error(y_test, y_pred))"
      ]
    },
    {
      "cell_type": "code",
      "execution_count": 27,
      "metadata": {},
      "outputs": [
        {
          "name": "stdout",
          "output_type": "stream",
          "text": [
            "3NN Life expectancy MSE: 77.07924242424242\n"
          ]
        }
      ],
      "source": [
        "y_pred = []\n",
        "for x in X_test_np:\n",
        "    y_pred.append(knn3.predict(x))\n",
        "print('3NN Life expectancy MSE:', mean_squared_error(y_test, y_pred))"
      ]
    },
    {
      "cell_type": "code",
      "execution_count": 28,
      "metadata": {},
      "outputs": [
        {
          "name": "stdout",
          "output_type": "stream",
          "text": [
            "5NN Life expectancy MSE: 75.6850606060606\n"
          ]
        }
      ],
      "source": [
        "y_pred = []\n",
        "for x in X_test_np:\n",
        "    y_pred.append(knn5.predict(x))\n",
        "print('5NN Life expectancy MSE:', mean_squared_error(y_test, y_pred))"
      ]
    },
    {
      "cell_type": "markdown",
      "metadata": {},
      "source": [
        "## 숫자 분류"
      ]
    },
    {
      "cell_type": "code",
      "execution_count": 29,
      "metadata": {},
      "outputs": [],
      "source": [
        "mnist = fetch_openml('mnist_784', cache=False)\n",
        "X = mnist.data.astype('float32')\n",
        "y = mnist.target.astype('int64')\n",
        "X /= 255.0\n",
        "\n",
        "X_train, X_test, y_train, y_test = train_test_split(X, y, test_size=0.2, random_state=0)"
      ]
    },
    {
      "cell_type": "code",
      "execution_count": 30,
      "metadata": {},
      "outputs": [],
      "source": [
        "knn1 = KNN(n_neighbor=1)\n",
        "knn1.fit(X_train, y_train)\n",
        "knn3 = KNN(n_neighbor=3)\n",
        "knn3.fit(X_train, y_train)\n",
        "knn5 = KNN(n_neighbor=5)\n",
        "knn5.fit(X_train, y_train)"
      ]
    },
    {
      "cell_type": "code",
      "execution_count": 31,
      "metadata": {},
      "outputs": [],
      "source": [
        "X_test_np = X_test.to_numpy()"
      ]
    },
    {
      "cell_type": "code",
      "execution_count": 32,
      "metadata": {},
      "outputs": [
        {
          "ename": "KeyboardInterrupt",
          "evalue": "",
          "output_type": "error",
          "traceback": [
            "\u001b[1;31m---------------------------------------------------------------------------\u001b[0m",
            "\u001b[1;31mKeyboardInterrupt\u001b[0m                         Traceback (most recent call last)",
            "\u001b[1;32m~\\AppData\\Local\\Temp/ipykernel_45832/2765130172.py\u001b[0m in \u001b[0;36m<module>\u001b[1;34m\u001b[0m\n\u001b[0;32m      1\u001b[0m \u001b[0my_pred\u001b[0m \u001b[1;33m=\u001b[0m \u001b[1;33m[\u001b[0m\u001b[1;33m]\u001b[0m\u001b[1;33m\u001b[0m\u001b[1;33m\u001b[0m\u001b[0m\n\u001b[0;32m      2\u001b[0m \u001b[1;32mfor\u001b[0m \u001b[0mx\u001b[0m \u001b[1;32min\u001b[0m \u001b[0mX_test_np\u001b[0m\u001b[1;33m:\u001b[0m\u001b[1;33m\u001b[0m\u001b[1;33m\u001b[0m\u001b[0m\n\u001b[1;32m----> 3\u001b[1;33m     \u001b[0my_pred\u001b[0m\u001b[1;33m.\u001b[0m\u001b[0mappend\u001b[0m\u001b[1;33m(\u001b[0m\u001b[0mknn1\u001b[0m\u001b[1;33m.\u001b[0m\u001b[0mpredict\u001b[0m\u001b[1;33m(\u001b[0m\u001b[0mx\u001b[0m\u001b[1;33m)\u001b[0m\u001b[1;33m)\u001b[0m\u001b[1;33m\u001b[0m\u001b[1;33m\u001b[0m\u001b[0m\n\u001b[0m\u001b[0;32m      4\u001b[0m \u001b[0mprint\u001b[0m\u001b[1;33m(\u001b[0m\u001b[1;34m'1NN Life expectancy MSE:'\u001b[0m\u001b[1;33m,\u001b[0m \u001b[0mmean_squared_error\u001b[0m\u001b[1;33m(\u001b[0m\u001b[0my_test\u001b[0m\u001b[1;33m,\u001b[0m \u001b[0my_pred\u001b[0m\u001b[1;33m)\u001b[0m\u001b[1;33m)\u001b[0m\u001b[1;33m\u001b[0m\u001b[1;33m\u001b[0m\u001b[0m\n\u001b[0;32m      5\u001b[0m \u001b[1;33m\u001b[0m\u001b[0m\n",
            "\u001b[1;32m~\\AppData\\Local\\Temp/ipykernel_45832/3403980952.py\u001b[0m in \u001b[0;36mpredict\u001b[1;34m(self, x)\u001b[0m\n\u001b[0;32m     10\u001b[0m     \u001b[1;32mdef\u001b[0m \u001b[0mpredict\u001b[0m\u001b[1;33m(\u001b[0m\u001b[0mself\u001b[0m\u001b[1;33m,\u001b[0m \u001b[0mx\u001b[0m\u001b[1;33m)\u001b[0m\u001b[1;33m:\u001b[0m\u001b[1;33m\u001b[0m\u001b[1;33m\u001b[0m\u001b[0m\n\u001b[0;32m     11\u001b[0m         \u001b[0mdist_list\u001b[0m \u001b[1;33m=\u001b[0m \u001b[0mself\u001b[0m\u001b[1;33m.\u001b[0m\u001b[0mX\u001b[0m \u001b[1;33m-\u001b[0m \u001b[0mx\u001b[0m\u001b[1;33m\u001b[0m\u001b[1;33m\u001b[0m\u001b[0m\n\u001b[1;32m---> 12\u001b[1;33m         \u001b[0mdist_list\u001b[0m \u001b[1;33m=\u001b[0m \u001b[0mnp\u001b[0m\u001b[1;33m.\u001b[0m\u001b[0mpower\u001b[0m\u001b[1;33m(\u001b[0m\u001b[0mdist_list\u001b[0m\u001b[1;33m,\u001b[0m \u001b[1;36m2\u001b[0m\u001b[1;33m)\u001b[0m\u001b[1;33m\u001b[0m\u001b[1;33m\u001b[0m\u001b[0m\n\u001b[0m\u001b[0;32m     13\u001b[0m         \u001b[0mdist_list\u001b[0m \u001b[1;33m=\u001b[0m \u001b[0mnp\u001b[0m\u001b[1;33m.\u001b[0m\u001b[0msqrt\u001b[0m\u001b[1;33m(\u001b[0m\u001b[0mnp\u001b[0m\u001b[1;33m.\u001b[0m\u001b[0msum\u001b[0m\u001b[1;33m(\u001b[0m\u001b[0mdist_list\u001b[0m\u001b[1;33m,\u001b[0m \u001b[1;36m1\u001b[0m\u001b[1;33m)\u001b[0m\u001b[1;33m)\u001b[0m   \u001b[1;31m# 기존 픽셀값과 x의 픽셀값을 각 요소별로 뺀 후, 제곱 후에 열을 합산 후 sqrt\u001b[0m\u001b[1;33m\u001b[0m\u001b[1;33m\u001b[0m\u001b[0m\n\u001b[0;32m     14\u001b[0m         \u001b[0mneighbor\u001b[0m \u001b[1;33m=\u001b[0m \u001b[0mnp\u001b[0m\u001b[1;33m.\u001b[0m\u001b[0mcolumn_stack\u001b[0m\u001b[1;33m(\u001b[0m\u001b[1;33m(\u001b[0m\u001b[0mdist_list\u001b[0m\u001b[1;33m,\u001b[0m \u001b[0mself\u001b[0m\u001b[1;33m.\u001b[0m\u001b[0my\u001b[0m\u001b[1;33m)\u001b[0m\u001b[1;33m)\u001b[0m\u001b[1;33m\u001b[0m\u001b[1;33m\u001b[0m\u001b[0m\n",
            "\u001b[1;31mKeyboardInterrupt\u001b[0m: "
          ]
        }
      ],
      "source": [
        "y_pred = []\n",
        "for x in X_test_np:\n",
        "    y_pred.append(knn1.predict(x))\n",
        "print('1NN Life expectancy MSE:', mean_squared_error(y_test, y_pred))\n",
        "\n",
        "y_pred = []\n",
        "for x in X_test_np:\n",
        "    y_pred.append(knn1.predict(x))\n",
        "print('3NN Life expectancy MSE:', mean_squared_error(y_test, y_pred))\n",
        "\n",
        "y_pred = []\n",
        "for x in X_test_np:\n",
        "    y_pred.append(knn1.predict(x))\n",
        "print('5NN Life expectancy MSE:', mean_squared_error(y_test, y_pred))"
      ]
    }
  ],
  "metadata": {
    "colab": {
      "name": "중간고사_대체_레포트.ipynb",
      "provenance": []
    },
    "kernelspec": {
      "display_name": "Python 3",
      "name": "python3"
    },
    "language_info": {
      "codemirror_mode": {
        "name": "ipython",
        "version": 3
      },
      "file_extension": ".py",
      "mimetype": "text/x-python",
      "name": "python",
      "nbconvert_exporter": "python",
      "pygments_lexer": "ipython3",
      "version": "3.9.7"
    }
  },
  "nbformat": 4,
  "nbformat_minor": 0
}
