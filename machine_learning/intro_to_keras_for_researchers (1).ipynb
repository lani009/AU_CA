{
  "cells": [
    {
      "cell_type": "markdown",
      "metadata": {
        "id": "rOIpmhHf40vc"
      },
      "source": [
        "# Introduction to Keras for Researchers\n",
        "\n",
        "**Author:** [fchollet](https://twitter.com/fchollet)<br>\n",
        "**Date created:** 2020/04/01<br>\n",
        "**Last modified:** 2020/10/02<br>\n",
        "**Description:** Everything you need to know to use Keras & TensorFlow for deep learning research."
      ]
    },
    {
      "cell_type": "markdown",
      "metadata": {
        "id": "9rVoHbNK40vg"
      },
      "source": [
        "## Setup"
      ]
    },
    {
      "cell_type": "code",
      "execution_count": 1,
      "metadata": {
        "id": "3KgBvM_U40vg"
      },
      "outputs": [],
      "source": [
        "import tensorflow as tf\n",
        "from tensorflow import keras"
      ]
    },
    {
      "cell_type": "markdown",
      "metadata": {
        "id": "93zodRIL40vh"
      },
      "source": [
        "## Introduction\n",
        "\n",
        "Are you a machine learning researcher? Do you publish at NeurIPS and push the\n",
        "state-of-the-art in CV and NLP? This guide will serve as your first introduction to core\n",
        "Keras & TensorFlow API concepts.\n",
        "\n",
        "In this guide, you will learn about:\n",
        "\n",
        "- Tensors, variables, and gradients in TensorFlow\n",
        "- Creating layers by subclassing the `Layer` class\n",
        "- Writing low-level training loops\n",
        "- Tracking losses created by layers via the `add_loss()` method\n",
        "- Tracking metrics in a low-level training loop\n",
        "- Speeding up execution with a compiled `tf.function`\n",
        "- Executing layers in training or inference mode\n",
        "- The Keras Functional API\n",
        "\n",
        "You will also see the Keras API in action in two end-to-end research examples:\n",
        "a Variational Autoencoder, and a Hypernetwork."
      ]
    },
    {
      "cell_type": "markdown",
      "metadata": {
        "id": "xVN1F5zL40vi"
      },
      "source": [
        "## Tensors\n",
        "\n",
        "TensorFlow is an infrastructure layer for differentiable programming.\n",
        "At its heart, it's a framework for manipulating N-dimensional arrays (tensors),\n",
        "much like NumPy.\n",
        "\n",
        "However, there are three key differences between NumPy and TensorFlow:\n",
        "\n",
        "- TensorFlow can leverage hardware accelerators such as GPUs and TPUs.\n",
        "- TensorFlow can automatically compute the gradient of arbitrary differentiable tensor expressions.\n",
        "- TensorFlow computation can be distributed to large numbers of devices on a single machine, and large number of\n",
        "machines (potentially with multiple devices each).\n",
        "\n",
        "Let's take a look at the object that is at the core of TensorFlow: the Tensor.\n",
        "\n",
        "Here's a constant tensor:"
      ]
    },
    {
      "cell_type": "code",
      "execution_count": 2,
      "metadata": {
        "colab": {
          "base_uri": "https://localhost:8080/"
        },
        "id": "MOl3coWd40vj",
        "outputId": "456ce0b8-12be-4e71-ccab-4473ef83a277"
      },
      "outputs": [
        {
          "name": "stdout",
          "output_type": "stream",
          "text": [
            "tf.Tensor(\n",
            "[[5 2]\n",
            " [1 3]], shape=(2, 2), dtype=int32)\n"
          ]
        }
      ],
      "source": [
        "x = tf.constant([[5, 2], [1, 3]])\n",
        "print(x)"
      ]
    },
    {
      "cell_type": "markdown",
      "metadata": {
        "id": "_b2QMHQF40vj"
      },
      "source": [
        "You can get its value as a NumPy array by calling `.numpy()`:"
      ]
    },
    {
      "cell_type": "code",
      "execution_count": 3,
      "metadata": {
        "colab": {
          "base_uri": "https://localhost:8080/"
        },
        "id": "9_B9fC0c40vk",
        "outputId": "95288a8e-978e-467d-c520-27fc26a0201b"
      },
      "outputs": [
        {
          "data": {
            "text/plain": [
              "array([[5, 2],\n",
              "       [1, 3]])"
            ]
          },
          "execution_count": 3,
          "metadata": {},
          "output_type": "execute_result"
        }
      ],
      "source": [
        "x.numpy()"
      ]
    },
    {
      "cell_type": "markdown",
      "metadata": {
        "id": "qdaY35WB40vm"
      },
      "source": [
        "Much like a NumPy array, it features the attributes `dtype` and `shape`:"
      ]
    },
    {
      "cell_type": "code",
      "execution_count": 4,
      "metadata": {
        "colab": {
          "base_uri": "https://localhost:8080/"
        },
        "id": "iIgMTohI40vm",
        "outputId": "c803b2bb-a891-4f6c-efb5-f4b533b35717"
      },
      "outputs": [
        {
          "name": "stdout",
          "output_type": "stream",
          "text": [
            "dtype: <dtype: 'int32'>\n",
            "shape: (2, 2)\n"
          ]
        }
      ],
      "source": [
        "print(\"dtype:\", x.dtype)\n",
        "print(\"shape:\", x.shape)"
      ]
    },
    {
      "cell_type": "markdown",
      "metadata": {
        "id": "JLJkXLIv40vn"
      },
      "source": [
        "A common way to create constant tensors is via `tf.ones` and `tf.zeros` (just like `np.ones` and `np.zeros`):"
      ]
    },
    {
      "cell_type": "code",
      "execution_count": 5,
      "metadata": {
        "colab": {
          "base_uri": "https://localhost:8080/"
        },
        "id": "ujnSbq7N40vn",
        "outputId": "470e1e7f-e4cc-469b-e3f6-a96e03e98677"
      },
      "outputs": [
        {
          "name": "stdout",
          "output_type": "stream",
          "text": [
            "tf.Tensor(\n",
            "[[1.]\n",
            " [1.]], shape=(2, 1), dtype=float32)\n",
            "tf.Tensor(\n",
            "[[0.]\n",
            " [0.]], shape=(2, 1), dtype=float32)\n"
          ]
        }
      ],
      "source": [
        "print(tf.ones(shape=(2, 1)))\n",
        "print(tf.zeros(shape=(2, 1)))"
      ]
    },
    {
      "cell_type": "markdown",
      "metadata": {
        "id": "jg6Jg3NK40vo"
      },
      "source": [
        "You can also create random constant tensors:"
      ]
    },
    {
      "cell_type": "code",
      "execution_count": 6,
      "metadata": {
        "id": "RC9aDQW440vo"
      },
      "outputs": [],
      "source": [
        "x = tf.random.normal(shape=(2, 2), mean=0.0, stddev=1.0)\n",
        "\n",
        "x = tf.random.uniform(shape=(2, 2), minval=0, maxval=10, dtype=\"int32\")\n"
      ]
    },
    {
      "cell_type": "markdown",
      "metadata": {
        "id": "S_yHGszK40vo"
      },
      "source": [
        "## Variables\n",
        "\n",
        "Variables are special tensors used to store mutable state (such as the weights of a neural network).\n",
        "You create a `Variable` using some initial value:"
      ]
    },
    {
      "cell_type": "code",
      "execution_count": 7,
      "metadata": {
        "colab": {
          "base_uri": "https://localhost:8080/"
        },
        "id": "Se2GwFOo40vo",
        "outputId": "4f1d730a-b878-4dd3-92fc-cd9f0943dbe7"
      },
      "outputs": [
        {
          "name": "stdout",
          "output_type": "stream",
          "text": [
            "<tf.Variable 'Variable:0' shape=(2, 2) dtype=float32, numpy=\n",
            "array([[1.4066375 , 0.04952665],\n",
            "       [0.25808907, 0.6505037 ]], dtype=float32)>\n"
          ]
        }
      ],
      "source": [
        "initial_value = tf.random.normal(shape=(2, 2))\n",
        "a = tf.Variable(initial_value)\n",
        "print(a)\n"
      ]
    },
    {
      "cell_type": "markdown",
      "metadata": {
        "id": "YJA9sZJs40vp"
      },
      "source": [
        "You update the value of a `Variable` by using the methods `.assign(value)`, `.assign_add(increment)`, or `.assign_sub(decrement)`:"
      ]
    },
    {
      "cell_type": "code",
      "execution_count": 8,
      "metadata": {
        "id": "NNDyd-Kg40vp"
      },
      "outputs": [],
      "source": [
        "new_value = tf.random.normal(shape=(2, 2))\n",
        "a.assign(new_value)\n",
        "for i in range(2):\n",
        "    for j in range(2):\n",
        "        assert a[i, j] == new_value[i, j]\n",
        "\n",
        "added_value = tf.random.normal(shape=(2, 2))\n",
        "a.assign_add(added_value)\n",
        "for i in range(2):\n",
        "    for j in range(2):\n",
        "        assert a[i, j] == new_value[i, j] + added_value[i, j]"
      ]
    },
    {
      "cell_type": "markdown",
      "metadata": {
        "id": "1NN_RUTr40vp"
      },
      "source": [
        "## Doing math in TensorFlow\n",
        "\n",
        "If you've used NumPy, doing math in TensorFlow will look very familiar.\n",
        "The main difference is that your TensorFlow code can run on GPU and TPU."
      ]
    },
    {
      "cell_type": "code",
      "execution_count": 9,
      "metadata": {
        "id": "cVFfTtZo40vq"
      },
      "outputs": [],
      "source": [
        "a = tf.random.normal(shape=(2, 2))\n",
        "b = tf.random.normal(shape=(2, 2))\n",
        "\n",
        "c = a + b\n",
        "d = tf.square(c)\n",
        "e = tf.exp(d)"
      ]
    },
    {
      "cell_type": "markdown",
      "metadata": {
        "id": "0OgRbVao40vq"
      },
      "source": [
        "## Gradients\n",
        "\n",
        "Here's another big difference with NumPy: you can automatically retrieve the gradient of any differentiable expression.\n",
        "\n",
        "Just open a `GradientTape`, start \"watching\" a tensor via `tape.watch()`,\n",
        "and compose a differentiable expression using this tensor as input:"
      ]
    },
    {
      "cell_type": "code",
      "execution_count": 10,
      "metadata": {
        "colab": {
          "base_uri": "https://localhost:8080/"
        },
        "id": "zbOU1QcL40vq",
        "outputId": "25397fdb-a215-46fa-ee44-b3c9bb8f9c5e"
      },
      "outputs": [
        {
          "name": "stdout",
          "output_type": "stream",
          "text": [
            "tf.Tensor(\n",
            "[[ 0.9966934   0.52261364]\n",
            " [-0.3086291  -0.9919042 ]], shape=(2, 2), dtype=float32)\n"
          ]
        }
      ],
      "source": [
        "a = tf.random.normal(shape=(2, 2))\n",
        "b = tf.random.normal(shape=(2, 2))\n",
        "\n",
        "with tf.GradientTape() as tape:\n",
        "    tape.watch(a)  # Start recording the history of operations applied to `a`\n",
        "    c = tf.sqrt(tf.square(a) + tf.square(b))  # Do some math using `a`\n",
        "    # What's the gradient of `c` with respect to `a`?\n",
        "    dc_da = tape.gradient(c, a)\n",
        "    print(dc_da)\n"
      ]
    },
    {
      "cell_type": "markdown",
      "metadata": {
        "id": "jE9YmTYC40vq"
      },
      "source": [
        "By default, variables are watched automatically, so you don't need to manually `watch` them:"
      ]
    },
    {
      "cell_type": "code",
      "execution_count": 11,
      "metadata": {
        "colab": {
          "base_uri": "https://localhost:8080/"
        },
        "id": "RDox7mx140vr",
        "outputId": "afa58fd8-52f9-4d43-9461-8e5440f5a804"
      },
      "outputs": [
        {
          "name": "stdout",
          "output_type": "stream",
          "text": [
            "tf.Tensor(\n",
            "[[ 0.9966934   0.52261364]\n",
            " [-0.3086291  -0.9919042 ]], shape=(2, 2), dtype=float32)\n"
          ]
        }
      ],
      "source": [
        "a = tf.Variable(a)\n",
        "\n",
        "with tf.GradientTape() as tape:\n",
        "    c = tf.sqrt(tf.square(a) + tf.square(b))\n",
        "    dc_da = tape.gradient(c, a)\n",
        "    print(dc_da)"
      ]
    },
    {
      "cell_type": "markdown",
      "metadata": {
        "id": "u_QNiz2q40vr"
      },
      "source": [
        "Note that you can compute higher-order derivatives by nesting tapes:"
      ]
    },
    {
      "cell_type": "code",
      "execution_count": 12,
      "metadata": {
        "colab": {
          "base_uri": "https://localhost:8080/"
        },
        "id": "daBOuPdf40vr",
        "outputId": "6ae9920b-f265-43dc-a20b-5f332c3231df"
      },
      "outputs": [
        {
          "name": "stdout",
          "output_type": "stream",
          "text": [
            "tf.Tensor(\n",
            "[[0.00643748 0.5884601 ]\n",
            " [0.6564841  0.02255809]], shape=(2, 2), dtype=float32)\n"
          ]
        }
      ],
      "source": [
        "with tf.GradientTape() as outer_tape:\n",
        "    with tf.GradientTape() as tape:\n",
        "        c = tf.sqrt(tf.square(a) + tf.square(b))\n",
        "        dc_da = tape.gradient(c, a)\n",
        "    d2c_da2 = outer_tape.gradient(dc_da, a)\n",
        "    print(d2c_da2)\n"
      ]
    },
    {
      "cell_type": "markdown",
      "metadata": {
        "id": "jIKScZKe40vs"
      },
      "source": [
        "## Keras layers\n",
        "\n",
        "While TensorFlow is an **infrastructure layer for differentiable programming**,\n",
        "dealing with tensors, variables, and gradients,\n",
        "Keras is a **user interface for deep learning**, dealing with\n",
        "layers, models, optimizers, loss functions, metrics, and more.\n",
        "\n",
        "Keras serves as the high-level API for TensorFlow:\n",
        "Keras is what makes TensorFlow simple and productive.\n",
        "\n",
        "The `Layer` class is the fundamental abstraction in Keras.\n",
        "A `Layer` encapsulates a state (weights) and some computation\n",
        "(defined in the call method).\n",
        "\n",
        "A simple layer looks like this:"
      ]
    },
    {
      "cell_type": "code",
      "execution_count": 13,
      "metadata": {
        "id": "hCoebx0a40vs"
      },
      "outputs": [],
      "source": [
        "\n",
        "class Linear(keras.layers.Layer):\n",
        "    \"\"\"y = w.x + b\"\"\"\n",
        "\n",
        "    def __init__(self, units=32, input_dim=32):\n",
        "        super(Linear, self).__init__()\n",
        "        w_init = tf.random_normal_initializer()\n",
        "        self.w = tf.Variable(\n",
        "            initial_value=w_init(shape=(input_dim, units), dtype=\"float32\"),\n",
        "            trainable=True,\n",
        "        )\n",
        "        b_init = tf.zeros_initializer()\n",
        "        self.b = tf.Variable(\n",
        "            initial_value=b_init(shape=(units,), dtype=\"float32\"), trainable=True\n",
        "        )\n",
        "\n",
        "    def call(self, inputs):\n",
        "        return tf.matmul(inputs, self.w) + self.b\n"
      ]
    },
    {
      "cell_type": "markdown",
      "metadata": {
        "id": "m2nLQn3c40vs"
      },
      "source": [
        "You would use a `Layer` instance much like a Python function:"
      ]
    },
    {
      "cell_type": "code",
      "execution_count": 14,
      "metadata": {
        "id": "swuhJtxy40vs"
      },
      "outputs": [],
      "source": [
        "# Instantiate our layer.\n",
        "linear_layer = Linear(units=4, input_dim=2)\n",
        "\n",
        "# The layer can be treated as a function.\n",
        "# Here we call it on some data.\n",
        "y = linear_layer(tf.ones((2, 2)))\n",
        "assert y.shape == (2, 4)"
      ]
    },
    {
      "cell_type": "markdown",
      "metadata": {
        "id": "bEAe8tFa40vs"
      },
      "source": [
        "The weight variables (created in `__init__`) are automatically\n",
        "tracked under the `weights` property:"
      ]
    },
    {
      "cell_type": "code",
      "execution_count": 15,
      "metadata": {
        "id": "7XWZ9aOU40vt"
      },
      "outputs": [],
      "source": [
        "assert linear_layer.weights == [linear_layer.w, linear_layer.b]"
      ]
    },
    {
      "cell_type": "markdown",
      "metadata": {
        "id": "g4MFUhcx40vt"
      },
      "source": [
        "You have many built-in layers available, from `Dense` to `Conv2D` to `LSTM` to\n",
        "fancier ones like `Conv3DTranspose` or `ConvLSTM2D`. Be smart about reusing\n",
        "built-in functionality."
      ]
    },
    {
      "cell_type": "markdown",
      "metadata": {
        "id": "P0ErmC6M40vt"
      },
      "source": [
        "## Layer weight creation\n",
        "\n",
        "The `self.add_weight()` method gives you a shortcut for creating weights:"
      ]
    },
    {
      "cell_type": "code",
      "execution_count": 16,
      "metadata": {
        "id": "MjPHbf1L40vt"
      },
      "outputs": [],
      "source": [
        "\n",
        "class Linear(keras.layers.Layer):\n",
        "    \"\"\"y = w.x + b\"\"\"\n",
        "\n",
        "    def __init__(self, units=32):\n",
        "        super(Linear, self).__init__()\n",
        "        self.units = units\n",
        "\n",
        "    def build(self, input_shape):\n",
        "        self.w = self.add_weight(\n",
        "            shape=(input_shape[-1], self.units),\n",
        "            initializer=\"random_normal\",\n",
        "            trainable=True,\n",
        "        )\n",
        "        self.b = self.add_weight(\n",
        "            shape=(self.units,), initializer=\"random_normal\", trainable=True\n",
        "        )\n",
        "\n",
        "    def call(self, inputs):\n",
        "        return tf.matmul(inputs, self.w) + self.b\n",
        "\n",
        "\n",
        "# Instantiate our lazy layer.\n",
        "linear_layer = Linear(4)\n",
        "\n",
        "# This will also call `build(input_shape)` and create the weights.\n",
        "y = linear_layer(tf.ones((2, 2)))"
      ]
    },
    {
      "cell_type": "markdown",
      "metadata": {
        "id": "NmGMFc3H40vt"
      },
      "source": [
        "## Layer gradients\n",
        "\n",
        "You can automatically retrieve the gradients of the weights of a layer by\n",
        "calling it inside a `GradientTape`. Using these gradients, you can update the\n",
        "weights of the layer, either manually, or using an optimizer object. Of course,\n",
        "you can modify the gradients before using them, if you need to."
      ]
    },
    {
      "cell_type": "code",
      "execution_count": 17,
      "metadata": {
        "colab": {
          "base_uri": "https://localhost:8080/"
        },
        "id": "B8x5Pod140vw",
        "outputId": "b80303d1-71f1-4fbf-b8b3-93360690737f"
      },
      "outputs": [
        {
          "name": "stdout",
          "output_type": "stream",
          "text": [
            "Step: 0 Loss: 2.338301658630371\n",
            "Step: 100 Loss: 2.1905980110168457\n",
            "Step: 200 Loss: 2.1515374183654785\n",
            "Step: 300 Loss: 2.0126070976257324\n",
            "Step: 400 Loss: 1.894716501235962\n",
            "Step: 500 Loss: 1.8156956434249878\n",
            "Step: 600 Loss: 1.7021684646606445\n",
            "Step: 700 Loss: 1.8531649112701416\n",
            "Step: 800 Loss: 1.6790745258331299\n",
            "Step: 900 Loss: 1.5957989692687988\n"
          ]
        }
      ],
      "source": [
        "# Prepare a dataset.\n",
        "(x_train, y_train), _ = tf.keras.datasets.mnist.load_data()\n",
        "dataset = tf.data.Dataset.from_tensor_slices(\n",
        "    (x_train.reshape(60000, 784).astype(\"float32\") / 255, y_train)\n",
        ")\n",
        "dataset = dataset.shuffle(buffer_size=1024).batch(64)\n",
        "\n",
        "# Instantiate our linear layer (defined above) with 10 units.\n",
        "linear_layer = Linear(10)\n",
        "\n",
        "# Instantiate a logistic loss function that expects integer targets.\n",
        "loss_fn = tf.keras.losses.SparseCategoricalCrossentropy(from_logits=True)\n",
        "\n",
        "# Instantiate an optimizer.\n",
        "optimizer = tf.keras.optimizers.SGD(learning_rate=1e-3)\n",
        "\n",
        "# Iterate over the batches of the dataset.\n",
        "for step, (x, y) in enumerate(dataset):\n",
        "\n",
        "    # Open a GradientTape.\n",
        "    with tf.GradientTape() as tape:\n",
        "\n",
        "        # Forward pass.\n",
        "        logits = linear_layer(x)\n",
        "\n",
        "        # Loss value for this batch.\n",
        "        loss = loss_fn(y, logits)\n",
        "\n",
        "    # Get gradients of the loss wrt the weights.\n",
        "    gradients = tape.gradient(loss, linear_layer.trainable_weights)\n",
        "\n",
        "    # Update the weights of our linear layer.\n",
        "    optimizer.apply_gradients(zip(gradients, linear_layer.trainable_weights))\n",
        "\n",
        "    # Logging.\n",
        "    if step % 100 == 0:\n",
        "        print(\"Step:\", step, \"Loss:\", float(loss))"
      ]
    },
    {
      "cell_type": "markdown",
      "metadata": {
        "id": "4cEqGKdQ40vw"
      },
      "source": [
        "## Trainable and non-trainable weights\n",
        "\n",
        "Weights created by layers can be either trainable or non-trainable. They're\n",
        "exposed in `trainable_weights` and `non_trainable_weights` respectively.\n",
        "Here's a layer with a non-trainable weight:"
      ]
    },
    {
      "cell_type": "code",
      "execution_count": 18,
      "metadata": {
        "colab": {
          "base_uri": "https://localhost:8080/"
        },
        "id": "t2gblfSJ40vw",
        "outputId": "52e383b2-5ee6-4cce-e44c-e23adfa4aac7"
      },
      "outputs": [
        {
          "name": "stdout",
          "output_type": "stream",
          "text": [
            "[2. 2.]\n",
            "[4. 4.]\n"
          ]
        }
      ],
      "source": [
        "\n",
        "class ComputeSum(keras.layers.Layer):\n",
        "    \"\"\"Returns the sum of the inputs.\"\"\"\n",
        "\n",
        "    def __init__(self, input_dim):\n",
        "        super(ComputeSum, self).__init__()\n",
        "        # Create a non-trainable weight.\n",
        "        self.total = tf.Variable(initial_value=tf.zeros((input_dim,)), trainable=False)\n",
        "\n",
        "    def call(self, inputs):\n",
        "        self.total.assign_add(tf.reduce_sum(inputs, axis=0))\n",
        "        return self.total\n",
        "\n",
        "\n",
        "my_sum = ComputeSum(2)\n",
        "x = tf.ones((2, 2))\n",
        "\n",
        "y = my_sum(x)\n",
        "print(y.numpy())  # [2. 2.]\n",
        "\n",
        "y = my_sum(x)\n",
        "print(y.numpy())  # [4. 4.]\n",
        "\n",
        "assert my_sum.weights == [my_sum.total]\n",
        "assert my_sum.non_trainable_weights == [my_sum.total]\n",
        "assert my_sum.trainable_weights == []"
      ]
    },
    {
      "cell_type": "markdown",
      "metadata": {
        "id": "1syvsL7040vw"
      },
      "source": [
        "## Layers that own layers\n",
        "\n",
        "Layers can be recursively nested to create bigger computation blocks.\n",
        "Each layer will track the weights of its sublayers\n",
        "(both trainable and non-trainable)."
      ]
    },
    {
      "cell_type": "code",
      "execution_count": 19,
      "metadata": {
        "id": "ThrPt6w840vx"
      },
      "outputs": [],
      "source": [
        "# Let's reuse the Linear class\n",
        "# with a `build` method that we defined above.\n",
        "\n",
        "\n",
        "class MLP(keras.layers.Layer):\n",
        "    \"\"\"Simple stack of Linear layers.\"\"\"\n",
        "\n",
        "    def __init__(self):\n",
        "        super(MLP, self).__init__()\n",
        "        self.linear_1 = Linear(32)\n",
        "        self.linear_2 = Linear(32)\n",
        "        self.linear_3 = Linear(10)\n",
        "\n",
        "    def call(self, inputs):\n",
        "        x = self.linear_1(inputs)\n",
        "        x = tf.nn.relu(x)\n",
        "        x = self.linear_2(x)\n",
        "        x = tf.nn.relu(x)\n",
        "        return self.linear_3(x)\n",
        "\n",
        "\n",
        "mlp = MLP()\n",
        "\n",
        "# The first call to the `mlp` object will create the weights.\n",
        "y = mlp(tf.ones(shape=(3, 64)))\n",
        "\n",
        "# Weights are recursively tracked.\n",
        "assert len(mlp.weights) == 6"
      ]
    },
    {
      "cell_type": "markdown",
      "metadata": {
        "id": "uEl9WIXq40vx"
      },
      "source": [
        "Note that our manually-created MLP above is equivalent to the following\n",
        "built-in option:"
      ]
    },
    {
      "cell_type": "code",
      "execution_count": 20,
      "metadata": {
        "id": "qKRezfEJ40vx"
      },
      "outputs": [],
      "source": [
        "mlp = keras.Sequential(\n",
        "    [\n",
        "        keras.layers.Dense(32, activation=tf.nn.relu),\n",
        "        keras.layers.Dense(32, activation=tf.nn.relu),\n",
        "        keras.layers.Dense(10),\n",
        "    ]\n",
        ")"
      ]
    },
    {
      "cell_type": "markdown",
      "metadata": {
        "id": "ykDNMTXj40vx"
      },
      "source": [
        "## Tracking losses created by layers\n",
        "\n",
        "Layers can create losses during the forward pass via the `add_loss()` method.\n",
        "This is especially useful for regularization losses.\n",
        "The losses created by sublayers are recursively tracked by the parent layers.\n",
        "\n",
        "Here's a layer that creates an activity regularization loss:"
      ]
    },
    {
      "cell_type": "code",
      "execution_count": 21,
      "metadata": {
        "id": "yuG4w_Bg40vx"
      },
      "outputs": [],
      "source": [
        "\n",
        "class ActivityRegularization(keras.layers.Layer):\n",
        "    \"\"\"Layer that creates an activity sparsity regularization loss.\"\"\"\n",
        "\n",
        "    def __init__(self, rate=1e-2):\n",
        "        super(ActivityRegularization, self).__init__()\n",
        "        self.rate = rate\n",
        "\n",
        "    def call(self, inputs):\n",
        "        # We use `add_loss` to create a regularization loss\n",
        "        # that depends on the inputs.\n",
        "        self.add_loss(self.rate * tf.reduce_sum(inputs))\n",
        "        return inputs\n"
      ]
    },
    {
      "cell_type": "markdown",
      "metadata": {
        "id": "pDUNAIzz40vx"
      },
      "source": [
        "Any model incorporating this layer will track this regularization loss:"
      ]
    },
    {
      "cell_type": "code",
      "execution_count": 22,
      "metadata": {
        "colab": {
          "base_uri": "https://localhost:8080/"
        },
        "id": "pa_Ctcsh40vx",
        "outputId": "e0ae3644-68c2-47fb-dfa6-f8feada2a1ef"
      },
      "outputs": [
        {
          "name": "stdout",
          "output_type": "stream",
          "text": [
            "[<tf.Tensor: shape=(), dtype=float32, numpy=0.117122374>]\n"
          ]
        }
      ],
      "source": [
        "# Let's use the loss layer in a MLP block.\n",
        "\n",
        "\n",
        "class SparseMLP(keras.layers.Layer):\n",
        "    \"\"\"Stack of Linear layers with a sparsity regularization loss.\"\"\"\n",
        "\n",
        "    def __init__(self):\n",
        "        super(SparseMLP, self).__init__()\n",
        "        self.linear_1 = Linear(32)\n",
        "        self.regularization = ActivityRegularization(1e-2)\n",
        "        self.linear_3 = Linear(10)\n",
        "\n",
        "    def call(self, inputs):\n",
        "        x = self.linear_1(inputs)\n",
        "        x = tf.nn.relu(x)\n",
        "        x = self.regularization(x)\n",
        "        return self.linear_3(x)\n",
        "\n",
        "\n",
        "mlp = SparseMLP()\n",
        "y = mlp(tf.ones((10, 10)))\n",
        "\n",
        "print(mlp.losses)  # List containing one float32 scalar"
      ]
    },
    {
      "cell_type": "markdown",
      "metadata": {
        "id": "kTL4R51A40vy"
      },
      "source": [
        "These losses are cleared by the top-level layer at the start of each forward\n",
        "pass -- they don't accumulate. `layer.losses` always contains only the losses\n",
        "created during the last forward pass. You would typically use these losses by\n",
        "summing them before computing your gradients when writing a training loop."
      ]
    },
    {
      "cell_type": "code",
      "execution_count": 23,
      "metadata": {
        "colab": {
          "base_uri": "https://localhost:8080/"
        },
        "id": "xloABx8440vy",
        "outputId": "713b8887-96a9-40d3-e3e4-67b7b7e61b89"
      },
      "outputs": [
        {
          "name": "stdout",
          "output_type": "stream",
          "text": [
            "Step: 0 Loss: 6.449348449707031\n",
            "Step: 100 Loss: 2.5751214027404785\n",
            "Step: 200 Loss: 2.4022414684295654\n",
            "Step: 300 Loss: 2.369469165802002\n",
            "Step: 400 Loss: 2.3660690784454346\n",
            "Step: 500 Loss: 2.3380305767059326\n",
            "Step: 600 Loss: 2.3238885402679443\n",
            "Step: 700 Loss: 2.3349108695983887\n",
            "Step: 800 Loss: 2.3096065521240234\n",
            "Step: 900 Loss: 2.3088316917419434\n"
          ]
        }
      ],
      "source": [
        "# Losses correspond to the *last* forward pass.\n",
        "mlp = SparseMLP()\n",
        "mlp(tf.ones((10, 10)))\n",
        "assert len(mlp.losses) == 1\n",
        "mlp(tf.ones((10, 10)))\n",
        "assert len(mlp.losses) == 1  # No accumulation.\n",
        "\n",
        "# Let's demonstrate how to use these losses in a training loop.\n",
        "\n",
        "# Prepare a dataset.\n",
        "(x_train, y_train), _ = tf.keras.datasets.mnist.load_data()\n",
        "dataset = tf.data.Dataset.from_tensor_slices(\n",
        "    (x_train.reshape(60000, 784).astype(\"float32\") / 255, y_train)\n",
        ")\n",
        "dataset = dataset.shuffle(buffer_size=1024).batch(64)\n",
        "\n",
        "# A new MLP.\n",
        "mlp = SparseMLP()\n",
        "\n",
        "# Loss and optimizer.\n",
        "loss_fn = tf.keras.losses.SparseCategoricalCrossentropy(from_logits=True)\n",
        "optimizer = tf.keras.optimizers.SGD(learning_rate=1e-3)\n",
        "\n",
        "for step, (x, y) in enumerate(dataset):\n",
        "    with tf.GradientTape() as tape:\n",
        "\n",
        "        # Forward pass.\n",
        "        logits = mlp(x)\n",
        "\n",
        "        # External loss value for this batch.\n",
        "        loss = loss_fn(y, logits)\n",
        "\n",
        "        # Add the losses created during the forward pass.\n",
        "        loss += sum(mlp.losses)\n",
        "\n",
        "        # Get gradients of the loss wrt the weights.\n",
        "        gradients = tape.gradient(loss, mlp.trainable_weights)\n",
        "\n",
        "    # Update the weights of our linear layer.\n",
        "    optimizer.apply_gradients(zip(gradients, mlp.trainable_weights))\n",
        "\n",
        "    # Logging.\n",
        "    if step % 100 == 0:\n",
        "        print(\"Step:\", step, \"Loss:\", float(loss))"
      ]
    },
    {
      "cell_type": "markdown",
      "metadata": {
        "id": "xCX81-VH40vy"
      },
      "source": [
        "## Keeping track of training metrics\n",
        "\n",
        "Keras offers a broad range of built-in metrics, like `tf.keras.metrics.AUC`\n",
        "or `tf.keras.metrics.PrecisionAtRecall`. It's also easy to create your\n",
        "own metrics in a few lines of code.\n",
        "\n",
        "To use a metric in a custom training loop, you would:\n",
        "\n",
        "- Instantiate the metric object, e.g. `metric = tf.keras.metrics.AUC()`\n",
        "- Call its `metric.udpate_state(targets, predictions)` method for each batch of data\n",
        "- Query its result via `metric.result()`\n",
        "- Reset the metric's state at the end of an epoch or at the start of an evaluation via\n",
        "`metric.reset_state()`\n",
        "\n",
        "Here's a simple example:"
      ]
    },
    {
      "cell_type": "code",
      "execution_count": 24,
      "metadata": {
        "colab": {
          "base_uri": "https://localhost:8080/"
        },
        "id": "AYOoPikl40vy",
        "outputId": "f5ab75ab-1945-4549-c1dc-d8c5eef396e4"
      },
      "outputs": [
        {
          "name": "stdout",
          "output_type": "stream",
          "text": [
            "Epoch: 0 Step: 0\n",
            "Total running accuracy so far: 0.062\n",
            "Epoch: 0 Step: 200\n",
            "Total running accuracy so far: 0.780\n",
            "Epoch: 0 Step: 400\n",
            "Total running accuracy so far: 0.840\n",
            "Epoch: 0 Step: 600\n",
            "Total running accuracy so far: 0.865\n",
            "Epoch: 0 Step: 800\n",
            "Total running accuracy so far: 0.880\n",
            "Epoch: 1 Step: 0\n",
            "Total running accuracy so far: 0.922\n",
            "Epoch: 1 Step: 200\n",
            "Total running accuracy so far: 0.943\n",
            "Epoch: 1 Step: 400\n",
            "Total running accuracy so far: 0.944\n",
            "Epoch: 1 Step: 600\n",
            "Total running accuracy so far: 0.943\n",
            "Epoch: 1 Step: 800\n",
            "Total running accuracy so far: 0.944\n"
          ]
        }
      ],
      "source": [
        "# Instantiate a metric object\n",
        "accuracy = tf.keras.metrics.SparseCategoricalAccuracy()\n",
        "\n",
        "# Prepare our layer, loss, and optimizer.\n",
        "model = keras.Sequential(\n",
        "    [\n",
        "        keras.layers.Dense(32, activation=\"relu\"),\n",
        "        keras.layers.Dense(32, activation=\"relu\"),\n",
        "        keras.layers.Dense(10),\n",
        "    ]\n",
        ")\n",
        "loss_fn = tf.keras.losses.SparseCategoricalCrossentropy(from_logits=True)\n",
        "optimizer = tf.keras.optimizers.Adam(learning_rate=1e-3)\n",
        "\n",
        "for epoch in range(2):\n",
        "    # Iterate over the batches of a dataset.\n",
        "    for step, (x, y) in enumerate(dataset):\n",
        "        with tf.GradientTape() as tape:\n",
        "            logits = model(x)\n",
        "            # Compute the loss value for this batch.\n",
        "            loss_value = loss_fn(y, logits)\n",
        "\n",
        "        # Update the state of the `accuracy` metric.\n",
        "        accuracy.update_state(y, logits)\n",
        "\n",
        "        # Update the weights of the model to minimize the loss value.\n",
        "        gradients = tape.gradient(loss_value, model.trainable_weights)\n",
        "        optimizer.apply_gradients(zip(gradients, model.trainable_weights))\n",
        "\n",
        "        # Logging the current accuracy value so far.\n",
        "        if step % 200 == 0:\n",
        "            print(\"Epoch:\", epoch, \"Step:\", step)\n",
        "            print(\"Total running accuracy so far: %.3f\" % accuracy.result())\n",
        "\n",
        "    # Reset the metric's state at the end of an epoch\n",
        "    accuracy.reset_state()"
      ]
    },
    {
      "cell_type": "markdown",
      "metadata": {
        "id": "xSrM6GbW40vy"
      },
      "source": [
        "In addition to this, similarly to the `self.add_loss()` method, you have access\n",
        "to an `self.add_metric()` method on layers. It tracks the average of\n",
        "whatever quantity you pass to it. You can reset the value of these metrics\n",
        "by calling `layer.reset_metrics()` on any layer or model."
      ]
    },
    {
      "cell_type": "markdown",
      "metadata": {
        "id": "JkRgKk1J40vz"
      },
      "source": [
        "You can also define your own metrics by subclassing `keras.metrics.Metric`.\n",
        "You need to override the three functions called above:\n",
        "\n",
        "- Override `update_state()` to update the statistic values.\n",
        "- Override `result()` to return the metric value.\n",
        "- Override `reset_state()` to reset the metric to its initial state.\n",
        "\n",
        "Here is an example where we implement the F1-score metric\n",
        "(with support for sample weighting)."
      ]
    },
    {
      "cell_type": "code",
      "execution_count": 25,
      "metadata": {
        "id": "874kZW2X40vz"
      },
      "outputs": [],
      "source": [
        "\n",
        "class F1Score(keras.metrics.Metric):\n",
        "    def __init__(self, name=\"f1_score\", dtype=\"float32\", threshold=0.5, **kwargs):\n",
        "        super().__init__(name=name, dtype=dtype, **kwargs)\n",
        "        self.threshold = 0.5\n",
        "        self.true_positives = self.add_weight(\n",
        "            name=\"tp\", dtype=dtype, initializer=\"zeros\"\n",
        "        )\n",
        "        self.false_positives = self.add_weight(\n",
        "            name=\"fp\", dtype=dtype, initializer=\"zeros\"\n",
        "        )\n",
        "        self.false_negatives = self.add_weight(\n",
        "            name=\"fn\", dtype=dtype, initializer=\"zeros\"\n",
        "        )\n",
        "\n",
        "    def update_state(self, y_true, y_pred, sample_weight=None):\n",
        "        y_pred = tf.math.greater_equal(y_pred, self.threshold)\n",
        "        y_true = tf.cast(y_true, tf.bool)\n",
        "        y_pred = tf.cast(y_pred, tf.bool)\n",
        "\n",
        "        true_positives = tf.cast(y_true & y_pred, self.dtype)\n",
        "        false_positives = tf.cast(~y_true & y_pred, self.dtype)\n",
        "        false_negatives = tf.cast(y_true & ~y_pred, self.dtype)\n",
        "\n",
        "        if sample_weight is not None:\n",
        "            sample_weight = tf.cast(sample_weight, self.dtype)\n",
        "            true_positives *= sample_weight\n",
        "            false_positives *= sample_weight\n",
        "            false_negatives *= sample_weight\n",
        "\n",
        "        self.true_positives.assign_add(tf.reduce_sum(true_positives))\n",
        "        self.false_positives.assign_add(tf.reduce_sum(false_positives))\n",
        "        self.false_negatives.assign_add(tf.reduce_sum(false_negatives))\n",
        "\n",
        "    def result(self):\n",
        "        precision = self.true_positives / (self.true_positives + self.false_positives)\n",
        "        recall = self.true_positives / (self.true_positives + self.false_negatives)\n",
        "        return precision * recall * 2.0 / (precision + recall)\n",
        "\n",
        "    def reset_state(self):\n",
        "        self.true_positives.assign(0)\n",
        "        self.false_positives.assign(0)\n",
        "        self.false_negatives.assign(0)\n"
      ]
    },
    {
      "cell_type": "markdown",
      "metadata": {
        "id": "SOSPGlFE40vz"
      },
      "source": [
        "Let's test-drive it:"
      ]
    },
    {
      "cell_type": "code",
      "execution_count": 26,
      "metadata": {
        "colab": {
          "base_uri": "https://localhost:8080/"
        },
        "id": "EbURgPaG40v0",
        "outputId": "f7c6e1e0-d0bf-4b41-e8b1-5c7b91f3222f"
      },
      "outputs": [
        {
          "name": "stdout",
          "output_type": "stream",
          "text": [
            "Intermediate result: 0.5\n",
            "Final result: 0.6000000238418579\n"
          ]
        }
      ],
      "source": [
        "m = F1Score()\n",
        "m.update_state([0, 1, 0, 0], [0.3, 0.5, 0.8, 0.9])\n",
        "print(\"Intermediate result:\", float(m.result()))\n",
        "\n",
        "m.update_state([1, 1, 1, 1], [0.1, 0.7, 0.6, 0.0])\n",
        "print(\"Final result:\", float(m.result()))\n"
      ]
    },
    {
      "cell_type": "markdown",
      "metadata": {
        "id": "zuPkRvRt40v0"
      },
      "source": [
        "## Compiled functions\n",
        "\n",
        "Running eagerly is great for debugging, but you will get better performance by\n",
        "compiling your computation into static graphs. Static graphs are a researcher's\n",
        "best friends. You can compile any function by wrapping it in a `tf.function`\n",
        "decorator."
      ]
    },
    {
      "cell_type": "code",
      "execution_count": 27,
      "metadata": {
        "colab": {
          "base_uri": "https://localhost:8080/"
        },
        "id": "bPkOHRMT40v0",
        "outputId": "76e8df92-3e03-4bcc-e644-a2a90f084a26"
      },
      "outputs": [
        {
          "name": "stdout",
          "output_type": "stream",
          "text": [
            "Step: 0 Loss: 2.2727346420288086\n",
            "Step: 100 Loss: 0.7442799806594849\n",
            "Step: 200 Loss: 0.2860177755355835\n",
            "Step: 300 Loss: 0.283066064119339\n",
            "Step: 400 Loss: 0.2648937702178955\n",
            "Step: 500 Loss: 0.4062007665634155\n",
            "Step: 600 Loss: 0.18863122165203094\n",
            "Step: 700 Loss: 0.42130184173583984\n",
            "Step: 800 Loss: 0.09467659890651703\n",
            "Step: 900 Loss: 0.15254952013492584\n"
          ]
        }
      ],
      "source": [
        "# Prepare our layer, loss, and optimizer.\n",
        "model = keras.Sequential(\n",
        "    [\n",
        "        keras.layers.Dense(32, activation=\"relu\"),\n",
        "        keras.layers.Dense(32, activation=\"relu\"),\n",
        "        keras.layers.Dense(10),\n",
        "    ]\n",
        ")\n",
        "loss_fn = tf.keras.losses.SparseCategoricalCrossentropy(from_logits=True)\n",
        "optimizer = tf.keras.optimizers.Adam(learning_rate=1e-3)\n",
        "\n",
        "# Create a training step function.\n",
        "\n",
        "\n",
        "@tf.function  # Make it fast.\n",
        "def train_on_batch(x, y):\n",
        "    with tf.GradientTape() as tape:\n",
        "        logits = model(x)\n",
        "        loss = loss_fn(y, logits)\n",
        "        gradients = tape.gradient(loss, model.trainable_weights)\n",
        "    optimizer.apply_gradients(zip(gradients, model.trainable_weights))\n",
        "    return loss\n",
        "\n",
        "\n",
        "# Prepare a dataset.\n",
        "(x_train, y_train), _ = tf.keras.datasets.mnist.load_data()\n",
        "dataset = tf.data.Dataset.from_tensor_slices(\n",
        "    (x_train.reshape(60000, 784).astype(\"float32\") / 255, y_train)\n",
        ")\n",
        "dataset = dataset.shuffle(buffer_size=1024).batch(64)\n",
        "\n",
        "for step, (x, y) in enumerate(dataset):\n",
        "    loss = train_on_batch(x, y)\n",
        "    if step % 100 == 0:\n",
        "        print(\"Step:\", step, \"Loss:\", float(loss))"
      ]
    },
    {
      "cell_type": "markdown",
      "metadata": {
        "id": "PVyTjORy40v0"
      },
      "source": [
        "## Training mode & inference mode\n",
        "\n",
        "Some layers, in particular the `BatchNormalization` layer and the `Dropout`\n",
        "layer, have different behaviors during training and inference. For such layers,\n",
        "it is standard practice to expose a `training` (boolean) argument in the `call`\n",
        "method.\n",
        "\n",
        "By exposing this argument in `call`, you enable the built-in training and\n",
        "evaluation loops (e.g. fit) to correctly use the layer in training and\n",
        "inference modes."
      ]
    },
    {
      "cell_type": "code",
      "execution_count": 28,
      "metadata": {
        "id": "aVZNepTn40v1"
      },
      "outputs": [],
      "source": [
        "\n",
        "class Dropout(keras.layers.Layer):\n",
        "    def __init__(self, rate):\n",
        "        super(Dropout, self).__init__()\n",
        "        self.rate = rate\n",
        "\n",
        "    def call(self, inputs, training=None):\n",
        "        if training:\n",
        "            return tf.nn.dropout(inputs, rate=self.rate)\n",
        "        return inputs\n",
        "\n",
        "\n",
        "class MLPWithDropout(keras.layers.Layer):\n",
        "    def __init__(self):\n",
        "        super(MLPWithDropout, self).__init__()\n",
        "        self.linear_1 = Linear(32)\n",
        "        self.dropout = Dropout(0.5)\n",
        "        self.linear_3 = Linear(10)\n",
        "\n",
        "    def call(self, inputs, training=None):\n",
        "        x = self.linear_1(inputs)\n",
        "        x = tf.nn.relu(x)\n",
        "        x = self.dropout(x, training=training)\n",
        "        return self.linear_3(x)\n",
        "\n",
        "\n",
        "mlp = MLPWithDropout()\n",
        "y_train = mlp(tf.ones((2, 2)), training=True)\n",
        "y_test = mlp(tf.ones((2, 2)), training=False)"
      ]
    },
    {
      "cell_type": "markdown",
      "metadata": {
        "id": "n_8qKaKG40v1"
      },
      "source": [
        "## The Functional API for model-building\n",
        "\n",
        "To build deep learning models, you don't have to use object-oriented programming all the\n",
        "time. All layers we've seen so far can also be composed functionally, like this (we call\n",
        "it the \"Functional API\"):"
      ]
    },
    {
      "cell_type": "code",
      "execution_count": 29,
      "metadata": {
        "id": "ao8KX6aP40v1"
      },
      "outputs": [],
      "source": [
        "# We use an `Input` object to describe the shape and dtype of the inputs.\n",
        "# This is the deep learning equivalent of *declaring a type*.\n",
        "# The shape argument is per-sample; it does not include the batch size.\n",
        "# The functional API focused on defining per-sample transformations.\n",
        "# The model we create will automatically batch the per-sample transformations,\n",
        "# so that it can be called on batches of data.\n",
        "inputs = tf.keras.Input(shape=(16,), dtype=\"float32\")\n",
        "\n",
        "# We call layers on these \"type\" objects\n",
        "# and they return updated types (new shapes/dtypes).\n",
        "x = Linear(32)(inputs)  # We are reusing the Linear layer we defined earlier.\n",
        "x = Dropout(0.5)(x)  # We are reusing the Dropout layer we defined earlier.\n",
        "outputs = Linear(10)(x)\n",
        "\n",
        "# A functional `Model` can be defined by specifying inputs and outputs.\n",
        "# A model is itself a layer like any other.\n",
        "model = tf.keras.Model(inputs, outputs)\n",
        "\n",
        "# A functional model already has weights, before being called on any data.\n",
        "# That's because we defined its input shape in advance (in `Input`).\n",
        "assert len(model.weights) == 4\n",
        "\n",
        "# Let's call our model on some data, for fun.\n",
        "y = model(tf.ones((2, 16)))\n",
        "assert y.shape == (2, 10)\n",
        "\n",
        "# You can pass a `training` argument in `__call__`\n",
        "# (it will get passed down to the Dropout layer).\n",
        "y = model(tf.ones((2, 16)), training=True)"
      ]
    },
    {
      "cell_type": "markdown",
      "metadata": {
        "id": "UN_WZlH540v1"
      },
      "source": [
        "The Functional API tends to be more concise than subclassing, and provides a few other\n",
        "advantages (generally the same advantages that functional, typed languages provide over\n",
        "untyped OO development). However, it can only be used to define DAGs of layers --\n",
        "recursive networks should be defined as Layer subclasses instead.\n",
        "\n",
        "Learn more about the Functional API [here](/guides/functional_api/).\n",
        "\n",
        "In your research workflows, you may often find yourself mix-and-matching OO models and\n",
        "Functional models.\n",
        "\n",
        "Note that the `Model` class also features built-in training & evaluation loops:\n",
        "`fit()`, `predict()` and `evaluate()` (configured via the `compile()` method).\n",
        "These built-in functions give you access to the\n",
        "following built-in training infrastructure features:\n",
        "\n",
        "* [Callbacks](/api/callbacks/). You can leverage built-in\n",
        "callbacks for early-stopping, model checkpointing,\n",
        "and monitoring training with TensorBoard. You can also\n",
        "[implement custom callbacks](/guides/writing_your_own_callbacks/) if needed.\n",
        "* [Distributed training](https://keras.io/guides/distributed_training/). You\n",
        "can easily scale up your training to multiple GPUs, TPU, or even multiple machines\n",
        "with the `tf.distribute` API -- with no changes to your code.\n",
        "* [Step fusing](https://keras.io/api/models/model_training_apis/#compile-method).\n",
        "With the `steps_per_execution` argument in `Model.compile()`, you can process\n",
        "multiple batches in a single `tf.function` call, which greatly improves\n",
        "device utilization on TPUs.\n",
        "\n",
        "We won't go into the details, but we provide a simple code example\n",
        "below. It leverages the built-in training infrastructure to implement the MNIST\n",
        "example above."
      ]
    },
    {
      "cell_type": "code",
      "execution_count": 30,
      "metadata": {
        "colab": {
          "base_uri": "https://localhost:8080/"
        },
        "id": "hdFAFcyj40v2",
        "outputId": "0df36f8d-5e93-4aeb-a780-eddd0b6f1616"
      },
      "outputs": [
        {
          "name": "stdout",
          "output_type": "stream",
          "text": [
            "Epoch 1/2\n",
            "938/938 [==============================] - 4s 4ms/step - loss: 0.3932 - sparse_categorical_accuracy: 0.8867A: 1s - loss: 0.\n",
            "Epoch 2/2\n",
            "938/938 [==============================] - 3s 3ms/step - loss: 0.1879 - sparse_categorical_accuracy: 0.9453\n",
            "938/938 [==============================] - 3s 3ms/step - loss: 0.1570 - sparse_categorical_accuracy: 0.9537\n"
          ]
        },
        {
          "data": {
            "text/plain": [
              "[0.15703687071800232, 0.9537333250045776]"
            ]
          },
          "execution_count": 30,
          "metadata": {},
          "output_type": "execute_result"
        }
      ],
      "source": [
        "inputs = tf.keras.Input(shape=(784,), dtype=\"float32\")\n",
        "x = keras.layers.Dense(32, activation=\"relu\")(inputs)\n",
        "x = keras.layers.Dense(32, activation=\"relu\")(x)\n",
        "outputs = keras.layers.Dense(10)(x)\n",
        "model = tf.keras.Model(inputs, outputs)\n",
        "\n",
        "# Specify the loss, optimizer, and metrics with `compile()`.\n",
        "model.compile(\n",
        "    loss=keras.losses.SparseCategoricalCrossentropy(from_logits=True),\n",
        "    optimizer=keras.optimizers.Adam(learning_rate=1e-3),\n",
        "    metrics=[keras.metrics.SparseCategoricalAccuracy()],\n",
        ")\n",
        "\n",
        "# Train the model with the dataset for 2 epochs.\n",
        "model.fit(dataset, epochs=2)\n",
        "model.predict(dataset)\n",
        "model.evaluate(dataset)"
      ]
    },
    {
      "cell_type": "markdown",
      "metadata": {
        "id": "SKS1HriS40v2"
      },
      "source": [
        "You can always subclass the `Model` class (it works exactly like subclassing\n",
        "`Layer`) if you want to leverage built-in training loops for your OO models.\n",
        "Just override the `Model.train_step()` to\n",
        "customize what happens in `fit()` while retaining support\n",
        "for the built-in infrastructure features outlined above -- callbacks,\n",
        "zero-code distribution support, and step fusing support.\n",
        "You may also override `test_step()` to customize what happens in `evaluate()`,\n",
        "and override `predict_step()` to customize what happens in `predict()`. For more\n",
        "information, please refer to\n",
        "[this guide](https://keras.io/guides/customizing_what_happens_in_fit/)."
      ]
    },
    {
      "cell_type": "code",
      "execution_count": 31,
      "metadata": {
        "colab": {
          "base_uri": "https://localhost:8080/"
        },
        "id": "og8P9Imt40v2",
        "outputId": "3c050e98-4b5c-4092-ae7b-d44da4bee910"
      },
      "outputs": [
        {
          "name": "stdout",
          "output_type": "stream",
          "text": [
            "Epoch 1/2\n",
            "938/938 [==============================] - 5s 5ms/step - loss: 0.4026 - accuracy: 0.8160\n",
            "Epoch 2/2\n",
            "938/938 [==============================] - 4s 4ms/step - loss: 0.2030 - accuracy: 0.9369\n"
          ]
        },
        {
          "data": {
            "text/plain": [
              "<tensorflow.python.keras.callbacks.History at 0x23b1ce199a0>"
            ]
          },
          "execution_count": 31,
          "metadata": {},
          "output_type": "execute_result"
        }
      ],
      "source": [
        "\n",
        "class CustomModel(keras.Model):\n",
        "    def __init__(self, *args, **kwargs):\n",
        "        super().__init__(*args, **kwargs)\n",
        "        self.loss_tracker = keras.metrics.Mean(name=\"loss\")\n",
        "        self.accuracy = keras.metrics.SparseCategoricalAccuracy()\n",
        "        self.loss_fn = keras.losses.SparseCategoricalCrossentropy(from_logits=True)\n",
        "        self.optimizer = keras.optimizers.Adam(learning_rate=1e-3)\n",
        "\n",
        "    def train_step(self, data):\n",
        "        # Unpack the data. Its structure depends on your model and\n",
        "        # on what you pass to `fit()`.\n",
        "        x, y = data\n",
        "        with tf.GradientTape() as tape:\n",
        "            y_pred = self(x, training=True)  # Forward pass\n",
        "            loss = self.loss_fn(y, y_pred)\n",
        "        gradients = tape.gradient(loss, self.trainable_weights)\n",
        "        self.optimizer.apply_gradients(zip(gradients, self.trainable_weights))\n",
        "        # Update metrics (includes the metric that tracks the loss)\n",
        "        self.loss_tracker.update_state(loss)\n",
        "        self.accuracy.update_state(y, y_pred)\n",
        "        # Return a dict mapping metric names to current value\n",
        "        return {\"loss\": self.loss_tracker.result(), \"accuracy\": self.accuracy.result()}\n",
        "\n",
        "    @property\n",
        "    def metrics(self):\n",
        "        # We list our `Metric` objects here so that `reset_states()` can be\n",
        "        # called automatically at the start of each epoch.\n",
        "        return [self.loss_tracker, self.accuracy]\n",
        "\n",
        "\n",
        "inputs = tf.keras.Input(shape=(784,), dtype=\"float32\")\n",
        "x = keras.layers.Dense(32, activation=\"relu\")(inputs)\n",
        "x = keras.layers.Dense(32, activation=\"relu\")(x)\n",
        "outputs = keras.layers.Dense(10)(x)\n",
        "model = CustomModel(inputs, outputs)\n",
        "model.compile()\n",
        "model.fit(dataset, epochs=2)"
      ]
    },
    {
      "cell_type": "markdown",
      "metadata": {
        "id": "UaOVBHpy40v2"
      },
      "source": [
        "## End-to-end experiment example 1: variational autoencoders.\n",
        "\n",
        "Here are some of the things you've learned so far:\n",
        "\n",
        "- A `Layer` encapsulates a state (created in `__init__` or `build`) and some computation\n",
        "(defined in `call`).\n",
        "- Layers can be recursively nested to create new, bigger computation blocks.\n",
        "- You can easily write highly hackable training loops by opening a\n",
        "`GradientTape`, calling your model inside the tape's scope, then retrieving\n",
        "gradients and applying them via an optimizer.\n",
        "- You can speed up your training loops using the `@tf.function` decorator.\n",
        "- Layers can create and track losses (typically regularization losses) via\n",
        "`self.add_loss()`.\n",
        "\n",
        "Let's put all of these things together into an end-to-end example: we're going to\n",
        "implement a Variational AutoEncoder (VAE). We'll train it on MNIST digits.\n",
        "\n",
        "Our VAE will be a subclass of `Layer`, built as a nested composition of layers that\n",
        "subclass `Layer`. It will feature a regularization loss (KL divergence)."
      ]
    },
    {
      "cell_type": "markdown",
      "metadata": {
        "id": "NxL21h9640v3"
      },
      "source": [
        "Below is our model definition.\n",
        "\n",
        "First, we have an `Encoder` class, which uses a `Sampling` layer to map a MNIST digit to\n",
        "a latent-space triplet `(z_mean, z_log_var, z)`."
      ]
    },
    {
      "cell_type": "code",
      "execution_count": 32,
      "metadata": {
        "id": "VGmXZNW540v3"
      },
      "outputs": [],
      "source": [
        "from tensorflow.keras import layers\n",
        "\n",
        "\n",
        "class Sampling(layers.Layer):\n",
        "    \"\"\"Uses (z_mean, z_log_var) to sample z, the vector encoding a digit.\"\"\"\n",
        "\n",
        "    def call(self, inputs):\n",
        "        z_mean, z_log_var = inputs\n",
        "        batch = tf.shape(z_mean)[0]\n",
        "        dim = tf.shape(z_mean)[1]\n",
        "        epsilon = tf.keras.backend.random_normal(shape=(batch, dim))\n",
        "        return z_mean + tf.exp(0.5 * z_log_var) * epsilon\n",
        "\n",
        "\n",
        "class Encoder(layers.Layer):\n",
        "    \"\"\"Maps MNIST digits to a triplet (z_mean, z_log_var, z).\"\"\"\n",
        "\n",
        "    def __init__(self, latent_dim=32, intermediate_dim=64, **kwargs):\n",
        "        super(Encoder, self).__init__(**kwargs)\n",
        "        self.dense_proj = layers.Dense(intermediate_dim, activation=tf.nn.relu)\n",
        "        self.dense_mean = layers.Dense(latent_dim)\n",
        "        self.dense_log_var = layers.Dense(latent_dim)\n",
        "        self.sampling = Sampling()\n",
        "\n",
        "    def call(self, inputs):\n",
        "        x = self.dense_proj(inputs)\n",
        "        z_mean = self.dense_mean(x)\n",
        "        z_log_var = self.dense_log_var(x)\n",
        "        z = self.sampling((z_mean, z_log_var))\n",
        "        return z_mean, z_log_var, z\n"
      ]
    },
    {
      "cell_type": "markdown",
      "metadata": {
        "id": "FVA27Olm40v3"
      },
      "source": [
        "Next, we have a `Decoder` class, which maps the probabilistic latent space coordinates\n",
        "back to a MNIST digit."
      ]
    },
    {
      "cell_type": "code",
      "execution_count": 33,
      "metadata": {
        "id": "8jxUdi1x40v3"
      },
      "outputs": [],
      "source": [
        "\n",
        "class Decoder(layers.Layer):\n",
        "    \"\"\"Converts z, the encoded digit vector, back into a readable digit.\"\"\"\n",
        "\n",
        "    def __init__(self, original_dim, intermediate_dim=64, **kwargs):\n",
        "        super(Decoder, self).__init__(**kwargs)\n",
        "        self.dense_proj = layers.Dense(intermediate_dim, activation=tf.nn.relu)\n",
        "        self.dense_output = layers.Dense(original_dim, activation=tf.nn.sigmoid)\n",
        "\n",
        "    def call(self, inputs):\n",
        "        x = self.dense_proj(inputs)\n",
        "        return self.dense_output(x)\n"
      ]
    },
    {
      "cell_type": "markdown",
      "metadata": {
        "id": "cEjhYPL-40v3"
      },
      "source": [
        "Finally, our `VariationalAutoEncoder` composes together an encoder and a decoder, and\n",
        "creates a KL divergence regularization loss via `add_loss()`."
      ]
    },
    {
      "cell_type": "code",
      "execution_count": 34,
      "metadata": {
        "id": "98_mq7Aa40v3"
      },
      "outputs": [],
      "source": [
        "\n",
        "class VariationalAutoEncoder(layers.Layer):\n",
        "    \"\"\"Combines the encoder and decoder into an end-to-end model for training.\"\"\"\n",
        "\n",
        "    def __init__(self, original_dim, intermediate_dim=64, latent_dim=32, **kwargs):\n",
        "        super(VariationalAutoEncoder, self).__init__(**kwargs)\n",
        "        self.original_dim = original_dim\n",
        "        self.encoder = Encoder(latent_dim=latent_dim, intermediate_dim=intermediate_dim)\n",
        "        self.decoder = Decoder(original_dim, intermediate_dim=intermediate_dim)\n",
        "\n",
        "    def call(self, inputs):\n",
        "        z_mean, z_log_var, z = self.encoder(inputs)\n",
        "        reconstructed = self.decoder(z)\n",
        "        # Add KL divergence regularization loss.\n",
        "        kl_loss = -0.5 * tf.reduce_mean(\n",
        "            z_log_var - tf.square(z_mean) - tf.exp(z_log_var) + 1\n",
        "        )\n",
        "        self.add_loss(kl_loss)\n",
        "        return reconstructed\n"
      ]
    },
    {
      "cell_type": "markdown",
      "metadata": {
        "id": "5eqRCDiN40v3"
      },
      "source": [
        "Now, let's write a training loop. Our training step is decorated with a `@tf.function` to\n",
        "compile into a super fast graph function."
      ]
    },
    {
      "cell_type": "code",
      "execution_count": 35,
      "metadata": {
        "colab": {
          "base_uri": "https://localhost:8080/"
        },
        "id": "Gs2W1Je640v4",
        "outputId": "18575505-d153-4e6d-a92a-d845905d2cac"
      },
      "outputs": [
        {
          "name": "stdout",
          "output_type": "stream",
          "text": [
            "Step: 0 Loss: 0.33409884572029114\n",
            "Step: 100 Loss: 0.12677996745794126\n",
            "Step: 200 Loss: 0.10028140940031602\n",
            "Step: 300 Loss: 0.08996783617723028\n",
            "Step: 400 Loss: 0.08500717710378461\n",
            "Step: 500 Loss: 0.08174863825003782\n",
            "Step: 600 Loss: 0.07934122499134298\n",
            "Step: 700 Loss: 0.07794839747452022\n",
            "Step: 800 Loss: 0.07670793036340774\n",
            "Step: 900 Loss: 0.07576363418379449\n",
            "Step: 1000 Loss: 0.07477209940701575\n"
          ]
        }
      ],
      "source": [
        "# Our model.\n",
        "vae = VariationalAutoEncoder(original_dim=784, intermediate_dim=64, latent_dim=32)\n",
        "\n",
        "# Loss and optimizer.\n",
        "loss_fn = tf.keras.losses.MeanSquaredError()\n",
        "optimizer = tf.keras.optimizers.Adam(learning_rate=1e-3)\n",
        "\n",
        "# Prepare a dataset.\n",
        "(x_train, _), _ = tf.keras.datasets.mnist.load_data()\n",
        "dataset = tf.data.Dataset.from_tensor_slices(\n",
        "    x_train.reshape(60000, 784).astype(\"float32\") / 255\n",
        ")\n",
        "dataset = dataset.shuffle(buffer_size=1024).batch(32)\n",
        "\n",
        "\n",
        "@tf.function\n",
        "def training_step(x):\n",
        "    with tf.GradientTape() as tape:\n",
        "        reconstructed = vae(x)  # Compute input reconstruction.\n",
        "        # Compute loss.\n",
        "        loss = loss_fn(x, reconstructed)\n",
        "        loss += sum(vae.losses)  # Add KLD term.\n",
        "    # Update the weights of the VAE.\n",
        "    grads = tape.gradient(loss, vae.trainable_weights)\n",
        "    optimizer.apply_gradients(zip(grads, vae.trainable_weights))\n",
        "    return loss\n",
        "\n",
        "\n",
        "losses = []  # Keep track of the losses over time.\n",
        "for step, x in enumerate(dataset):\n",
        "    loss = training_step(x)\n",
        "    # Logging.\n",
        "    losses.append(float(loss))\n",
        "    if step % 100 == 0:\n",
        "        print(\"Step:\", step, \"Loss:\", sum(losses) / len(losses))\n",
        "\n",
        "    # Stop after 1000 steps.\n",
        "    # Training the model to convergence is left\n",
        "    # as an exercise to the reader.\n",
        "    if step >= 1000:\n",
        "        break"
      ]
    },
    {
      "cell_type": "markdown",
      "metadata": {
        "id": "X8GHNGqt40v4"
      },
      "source": [
        "As you can see, building and training this type of model in Keras\n",
        "is quick and painless.\n",
        "\n",
        "Now, you may find that the code above is somewhat verbose: we handle every little detail\n",
        "on our own, by hand. This gives the most flexibility, but it's also a bit of work.\n",
        "\n",
        "Let's take a look at what the Functional API version of\n",
        "our VAE looks like:"
      ]
    },
    {
      "cell_type": "code",
      "execution_count": 36,
      "metadata": {
        "id": "MFNAyJ-v40v4"
      },
      "outputs": [],
      "source": [
        "original_dim = 784\n",
        "intermediate_dim = 64\n",
        "latent_dim = 32\n",
        "\n",
        "# Define encoder model.\n",
        "original_inputs = tf.keras.Input(shape=(original_dim,), name=\"encoder_input\")\n",
        "x = layers.Dense(intermediate_dim, activation=\"relu\")(original_inputs)\n",
        "z_mean = layers.Dense(latent_dim, name=\"z_mean\")(x)\n",
        "z_log_var = layers.Dense(latent_dim, name=\"z_log_var\")(x)\n",
        "z = Sampling()((z_mean, z_log_var))\n",
        "encoder = tf.keras.Model(inputs=original_inputs, outputs=z, name=\"encoder\")\n",
        "\n",
        "# Define decoder model.\n",
        "latent_inputs = tf.keras.Input(shape=(latent_dim,), name=\"z_sampling\")\n",
        "x = layers.Dense(intermediate_dim, activation=\"relu\")(latent_inputs)\n",
        "outputs = layers.Dense(original_dim, activation=\"sigmoid\")(x)\n",
        "decoder = tf.keras.Model(inputs=latent_inputs, outputs=outputs, name=\"decoder\")\n",
        "\n",
        "# Define VAE model.\n",
        "outputs = decoder(z)\n",
        "vae = tf.keras.Model(inputs=original_inputs, outputs=outputs, name=\"vae\")\n",
        "\n",
        "# Add KL divergence regularization loss.\n",
        "kl_loss = -0.5 * tf.reduce_mean(z_log_var - tf.square(z_mean) - tf.exp(z_log_var) + 1)\n",
        "vae.add_loss(kl_loss)"
      ]
    },
    {
      "cell_type": "markdown",
      "metadata": {
        "id": "0sYz5X0i40v4"
      },
      "source": [
        "Much more concise, right?\n",
        "\n",
        "By the way, Keras also features built-in training & evaluation loops on its `Model` class\n",
        "(`fit()` and `evaluate()`). Check it out:"
      ]
    },
    {
      "cell_type": "code",
      "execution_count": 37,
      "metadata": {
        "colab": {
          "base_uri": "https://localhost:8080/"
        },
        "id": "s9Sy0_Vq40v4",
        "outputId": "1222af1c-c053-431d-e7e9-2da86d7d47e1"
      },
      "outputs": [
        {
          "name": "stdout",
          "output_type": "stream",
          "text": [
            "1875/1875 [==============================] - 9s 5ms/step - loss: 0.0714\n"
          ]
        },
        {
          "data": {
            "text/plain": [
              "<tensorflow.python.keras.callbacks.History at 0x23b1ca62c40>"
            ]
          },
          "execution_count": 37,
          "metadata": {},
          "output_type": "execute_result"
        }
      ],
      "source": [
        "# Loss and optimizer.\n",
        "loss_fn = tf.keras.losses.MeanSquaredError()\n",
        "optimizer = tf.keras.optimizers.Adam(learning_rate=1e-3)\n",
        "\n",
        "# Prepare a dataset.\n",
        "(x_train, _), _ = tf.keras.datasets.mnist.load_data()\n",
        "dataset = tf.data.Dataset.from_tensor_slices(\n",
        "    x_train.reshape(60000, 784).astype(\"float32\") / 255\n",
        ")\n",
        "dataset = dataset.map(lambda x: (x, x))  # Use x_train as both inputs & targets\n",
        "dataset = dataset.shuffle(buffer_size=1024).batch(32)\n",
        "\n",
        "# Configure the model for training.\n",
        "vae.compile(optimizer, loss=loss_fn)\n",
        "\n",
        "# Actually training the model.\n",
        "vae.fit(dataset, epochs=1)"
      ]
    },
    {
      "cell_type": "markdown",
      "metadata": {
        "id": "2YwHvP1U40v4"
      },
      "source": [
        "The use of the Functional API and `fit` reduces our example from 65 lines to 25 lines\n",
        "(including model definition & training). The Keras philosophy is to offer you\n",
        "productivity-boosting features like\n",
        "these, while simultaneously empowering you to write everything yourself to gain absolute\n",
        "control over every little detail. Like we did in the low-level training loop two\n",
        "paragraphs earlier."
      ]
    },
    {
      "cell_type": "markdown",
      "metadata": {
        "id": "fn5AcKhl40v4"
      },
      "source": [
        "## End-to-end experiment example 2: hypernetworks.\n",
        "\n",
        "Let's take a look at another kind of research experiment: hypernetworks.\n",
        "\n",
        "The idea is to use a small deep neural network (the hypernetwork) to generate\n",
        "the weights for a larger network (the main network).\n",
        "\n",
        "Let's implement a really trivial hypernetwork: we'll use a small 2-layer network  to\n",
        "generate the weights of a larger 3-layer network."
      ]
    },
    {
      "cell_type": "code",
      "execution_count": 38,
      "metadata": {
        "id": "s9C-lF0G40v5"
      },
      "outputs": [],
      "source": [
        "import numpy as np\n",
        "\n",
        "input_dim = 784\n",
        "classes = 10\n",
        "\n",
        "# This is the main network we'll actually use to predict labels.\n",
        "main_network = keras.Sequential(\n",
        "    [keras.layers.Dense(64, activation=tf.nn.relu), keras.layers.Dense(classes),]\n",
        ")\n",
        "\n",
        "# It doesn't need to create its own weights, so let's mark its layers\n",
        "# as already built. That way, calling `main_network` won't create new variables.\n",
        "for layer in main_network.layers:\n",
        "    layer.built = True\n",
        "\n",
        "# This is the number of weight coefficients to generate. Each layer in the\n",
        "# main network requires output_dim * input_dim + output_dim coefficients.\n",
        "num_weights_to_generate = (classes * 64 + classes) + (64 * input_dim + 64)\n",
        "\n",
        "# This is the hypernetwork that generates the weights of the `main_network` above.\n",
        "hypernetwork = keras.Sequential(\n",
        "    [\n",
        "        keras.layers.Dense(16, activation=tf.nn.relu),\n",
        "        keras.layers.Dense(num_weights_to_generate, activation=tf.nn.sigmoid),\n",
        "    ]\n",
        ")"
      ]
    },
    {
      "cell_type": "markdown",
      "metadata": {
        "id": "ZNORPvOZ40v5"
      },
      "source": [
        "This is our training loop. For each batch of data:\n",
        "\n",
        "- We use `hypernetwork` to generate an array of weight coefficients, `weights_pred`\n",
        "- We reshape these coefficients into kernel & bias tensors for the `main_network`\n",
        "- We run the forward pass of the `main_network` to compute the actual MNIST predictions\n",
        "- We run backprop through the weights of the `hypernetwork` to minimize the\n",
        "final classification loss"
      ]
    },
    {
      "cell_type": "code",
      "execution_count": 39,
      "metadata": {
        "colab": {
          "base_uri": "https://localhost:8080/"
        },
        "id": "zmTZErDa40v5",
        "outputId": "62d16340-7cad-4e90-96eb-77ccf5ad4080"
      },
      "outputs": [
        {
          "name": "stdout",
          "output_type": "stream",
          "text": [
            "Step: 0 Loss: 3.4125242233276367\n",
            "Step: 100 Loss: 2.1073092743754387\n",
            "Step: 200 Loss: 1.914203439768058\n",
            "Step: 300 Loss: 1.8735020910964668\n",
            "Step: 400 Loss: 1.784481972223438\n",
            "Step: 500 Loss: 1.7181655507933946\n",
            "Step: 600 Loss: 1.661078343512498\n",
            "Step: 700 Loss: 1.645911966597443\n",
            "Step: 800 Loss: 1.6180142306522645\n",
            "Step: 900 Loss: 1.574360502267096\n",
            "Step: 1000 Loss: 1.5379408434846165\n"
          ]
        }
      ],
      "source": [
        "# Loss and optimizer.\n",
        "loss_fn = tf.keras.losses.SparseCategoricalCrossentropy(from_logits=True)\n",
        "optimizer = tf.keras.optimizers.Adam(learning_rate=1e-4)\n",
        "\n",
        "# Prepare a dataset.\n",
        "(x_train, y_train), _ = tf.keras.datasets.mnist.load_data()\n",
        "dataset = tf.data.Dataset.from_tensor_slices(\n",
        "    (x_train.reshape(60000, 784).astype(\"float32\") / 255, y_train)\n",
        ")\n",
        "\n",
        "# We'll use a batch size of 1 for this experiment.\n",
        "dataset = dataset.shuffle(buffer_size=1024).batch(1)\n",
        "\n",
        "\n",
        "@tf.function\n",
        "def train_step(x, y):\n",
        "    with tf.GradientTape() as tape:\n",
        "        # Predict weights for the outer model.\n",
        "        weights_pred = hypernetwork(x)\n",
        "\n",
        "        # Reshape them to the expected shapes for w and b for the outer model.\n",
        "        # Layer 0 kernel.\n",
        "        start_index = 0\n",
        "        w0_shape = (input_dim, 64)\n",
        "        w0_coeffs = weights_pred[:, start_index : start_index + np.prod(w0_shape)]\n",
        "        w0 = tf.reshape(w0_coeffs, w0_shape)\n",
        "        start_index += np.prod(w0_shape)\n",
        "        # Layer 0 bias.\n",
        "        b0_shape = (64,)\n",
        "        b0_coeffs = weights_pred[:, start_index : start_index + np.prod(b0_shape)]\n",
        "        b0 = tf.reshape(b0_coeffs, b0_shape)\n",
        "        start_index += np.prod(b0_shape)\n",
        "        # Layer 1 kernel.\n",
        "        w1_shape = (64, classes)\n",
        "        w1_coeffs = weights_pred[:, start_index : start_index + np.prod(w1_shape)]\n",
        "        w1 = tf.reshape(w1_coeffs, w1_shape)\n",
        "        start_index += np.prod(w1_shape)\n",
        "        # Layer 1 bias.\n",
        "        b1_shape = (classes,)\n",
        "        b1_coeffs = weights_pred[:, start_index : start_index + np.prod(b1_shape)]\n",
        "        b1 = tf.reshape(b1_coeffs, b1_shape)\n",
        "        start_index += np.prod(b1_shape)\n",
        "\n",
        "        # Set the weight predictions as the weight variables on the outer model.\n",
        "        main_network.layers[0].kernel = w0\n",
        "        main_network.layers[0].bias = b0\n",
        "        main_network.layers[1].kernel = w1\n",
        "        main_network.layers[1].bias = b1\n",
        "\n",
        "        # Inference on the outer model.\n",
        "        preds = main_network(x)\n",
        "        loss = loss_fn(y, preds)\n",
        "\n",
        "    # Train only inner model.\n",
        "    grads = tape.gradient(loss, hypernetwork.trainable_weights)\n",
        "    optimizer.apply_gradients(zip(grads, hypernetwork.trainable_weights))\n",
        "    return loss\n",
        "\n",
        "\n",
        "losses = []  # Keep track of the losses over time.\n",
        "for step, (x, y) in enumerate(dataset):\n",
        "    loss = train_step(x, y)\n",
        "\n",
        "    # Logging.\n",
        "    losses.append(float(loss))\n",
        "    if step % 100 == 0:\n",
        "        print(\"Step:\", step, \"Loss:\", sum(losses) / len(losses))\n",
        "\n",
        "    # Stop after 1000 steps.\n",
        "    # Training the model to convergence is left\n",
        "    # as an exercise to the reader.\n",
        "    if step >= 1000:\n",
        "        break"
      ]
    },
    {
      "cell_type": "markdown",
      "metadata": {
        "id": "DV_xBriH40v5"
      },
      "source": [
        "Implementing arbitrary research ideas with Keras is straightforward and highly\n",
        "productive. Imagine trying out 25 ideas per day (20 minutes per experiment on average)!\n",
        "\n",
        "Keras has been designed to go from idea to results as fast as possible, because we\n",
        "believe this is\n",
        "the key to doing great research."
      ]
    },
    {
      "cell_type": "markdown",
      "metadata": {
        "id": "csqddHgE40v5"
      },
      "source": [
        "We hope you enjoyed this quick introduction. Let us know what you build with Keras!"
      ]
    }
  ],
  "metadata": {
    "colab": {
      "collapsed_sections": [],
      "name": "intro_to_keras_for_researchers.ipynb",
      "provenance": [],
      "toc_visible": true
    },
    "interpreter": {
      "hash": "6b810cbf524e517e94ff8a7650623db184cccc7b00a3a21a33fa8a5b2eafb980"
    },
    "kernelspec": {
      "display_name": "Python 3.9.7 ('tf3')",
      "language": "python",
      "name": "python3"
    },
    "language_info": {
      "codemirror_mode": {
        "name": "ipython",
        "version": 3
      },
      "file_extension": ".py",
      "mimetype": "text/x-python",
      "name": "python",
      "nbconvert_exporter": "python",
      "pygments_lexer": "ipython3",
      "version": "3.9.7"
    }
  },
  "nbformat": 4,
  "nbformat_minor": 0
}
